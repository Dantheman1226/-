{
 "cells": [
  {
   "cell_type": "markdown",
   "metadata": {},
   "source": [
    "## Model\n",
    "#### In this Jupyter Notebook, we address the imbalance data to three dataset: lower clean data, downsample and upsample, augment data.\n",
    "#### And using the original and these three data set to train our baseline model and BERT."
   ]
  },
  {
   "cell_type": "code",
   "execution_count": 1,
   "metadata": {},
   "outputs": [],
   "source": [
    "import pandas as pd\n",
    "import numpy as np\n",
    "import matplotlib.pyplot as plt\n",
    "import seaborn as sns\n",
    "color = sns.color_palette()\n",
    "from keras.preprocessing.text import Tokenizer\n",
    "from keras.preprocessing.sequence import pad_sequences\n",
    "from keras.layers import Dense, Input, LSTM, Embedding, Dropout, Activation\n",
    "from keras.layers import Bidirectional, GlobalMaxPool1D\n",
    "from keras.models import Model\n",
    "from keras import initializers, regularizers, constraints, optimizers, layers\n",
    "from keras.callbacks import ModelCheckpoint\n",
    "from keras.callbacks import EarlyStopping\n",
    "from keras.callbacks import ReduceLROnPlateau\n",
    "import tensorflow as tf\n",
    "from tensorflow import keras\n",
    "from sklearn.utils import shuffle\n",
    "from googletrans import Translator\n",
    "import nltk\n",
    "import random\n",
    "import time"
   ]
  },
  {
   "cell_type": "markdown",
   "metadata": {},
   "source": [
    "## data"
   ]
  },
  {
   "cell_type": "code",
   "execution_count": 2,
   "metadata": {},
   "outputs": [],
   "source": [
    "## import train and test\n",
    "train = pd.read_csv('C:\\\\Users\\\\admin\\\\Desktop\\\\capstone\\\\project\\\\train.csv\\\\train.csv')\n",
    "test = pd.read_csv('C:\\\\Users\\\\admin\\\\Desktop\\\\capstone\\\\project\\\\test.csv\\\\test.csv')"
   ]
  },
  {
   "cell_type": "markdown",
   "metadata": {},
   "source": [
    "## Test data"
   ]
  },
  {
   "cell_type": "code",
   "execution_count": 4,
   "metadata": {},
   "outputs": [],
   "source": [
    "## import test label\n",
    "test_labels = pd.read_csv('C:\\\\Users\\\\admin\\\\Desktop\\\\capstone\\\\project\\\\test_labels.csv\\\\test_labels.csv')"
   ]
  },
  {
   "cell_type": "code",
   "execution_count": 5,
   "metadata": {},
   "outputs": [
    {
     "data": {
      "text/html": [
       "<div>\n",
       "<style scoped>\n",
       "    .dataframe tbody tr th:only-of-type {\n",
       "        vertical-align: middle;\n",
       "    }\n",
       "\n",
       "    .dataframe tbody tr th {\n",
       "        vertical-align: top;\n",
       "    }\n",
       "\n",
       "    .dataframe thead th {\n",
       "        text-align: right;\n",
       "    }\n",
       "</style>\n",
       "<table border=\"1\" class=\"dataframe\">\n",
       "  <thead>\n",
       "    <tr style=\"text-align: right;\">\n",
       "      <th></th>\n",
       "      <th>id</th>\n",
       "      <th>comment_text</th>\n",
       "      <th>toxic</th>\n",
       "      <th>severe_toxic</th>\n",
       "      <th>obscene</th>\n",
       "      <th>threat</th>\n",
       "      <th>insult</th>\n",
       "      <th>identity_hate</th>\n",
       "    </tr>\n",
       "  </thead>\n",
       "  <tbody>\n",
       "    <tr>\n",
       "      <th>0</th>\n",
       "      <td>00001cee341fdb12</td>\n",
       "      <td>Yo bitch Ja Rule is more succesful then you'll...</td>\n",
       "      <td>-1</td>\n",
       "      <td>-1</td>\n",
       "      <td>-1</td>\n",
       "      <td>-1</td>\n",
       "      <td>-1</td>\n",
       "      <td>-1</td>\n",
       "    </tr>\n",
       "    <tr>\n",
       "      <th>1</th>\n",
       "      <td>0000247867823ef7</td>\n",
       "      <td>== From RfC == \\n\\n The title is fine as it is...</td>\n",
       "      <td>-1</td>\n",
       "      <td>-1</td>\n",
       "      <td>-1</td>\n",
       "      <td>-1</td>\n",
       "      <td>-1</td>\n",
       "      <td>-1</td>\n",
       "    </tr>\n",
       "    <tr>\n",
       "      <th>2</th>\n",
       "      <td>00013b17ad220c46</td>\n",
       "      <td>\" \\n\\n == Sources == \\n\\n * Zawe Ashton on Lap...</td>\n",
       "      <td>-1</td>\n",
       "      <td>-1</td>\n",
       "      <td>-1</td>\n",
       "      <td>-1</td>\n",
       "      <td>-1</td>\n",
       "      <td>-1</td>\n",
       "    </tr>\n",
       "    <tr>\n",
       "      <th>3</th>\n",
       "      <td>00017563c3f7919a</td>\n",
       "      <td>:If you have a look back at the source, the in...</td>\n",
       "      <td>-1</td>\n",
       "      <td>-1</td>\n",
       "      <td>-1</td>\n",
       "      <td>-1</td>\n",
       "      <td>-1</td>\n",
       "      <td>-1</td>\n",
       "    </tr>\n",
       "    <tr>\n",
       "      <th>4</th>\n",
       "      <td>00017695ad8997eb</td>\n",
       "      <td>I don't anonymously edit articles at all.</td>\n",
       "      <td>-1</td>\n",
       "      <td>-1</td>\n",
       "      <td>-1</td>\n",
       "      <td>-1</td>\n",
       "      <td>-1</td>\n",
       "      <td>-1</td>\n",
       "    </tr>\n",
       "  </tbody>\n",
       "</table>\n",
       "</div>"
      ],
      "text/plain": [
       "                 id                                       comment_text  toxic  \\\n",
       "0  00001cee341fdb12  Yo bitch Ja Rule is more succesful then you'll...     -1   \n",
       "1  0000247867823ef7  == From RfC == \\n\\n The title is fine as it is...     -1   \n",
       "2  00013b17ad220c46  \" \\n\\n == Sources == \\n\\n * Zawe Ashton on Lap...     -1   \n",
       "3  00017563c3f7919a  :If you have a look back at the source, the in...     -1   \n",
       "4  00017695ad8997eb          I don't anonymously edit articles at all.     -1   \n",
       "\n",
       "   severe_toxic  obscene  threat  insult  identity_hate  \n",
       "0            -1       -1      -1      -1             -1  \n",
       "1            -1       -1      -1      -1             -1  \n",
       "2            -1       -1      -1      -1             -1  \n",
       "3            -1       -1      -1      -1             -1  \n",
       "4            -1       -1      -1      -1             -1  "
      ]
     },
     "execution_count": 5,
     "metadata": {},
     "output_type": "execute_result"
    }
   ],
   "source": [
    "## combine test and test label\n",
    "test = pd.merge(test, test_labels, how='left', on='id')\n",
    "test.head()"
   ]
  },
  {
   "cell_type": "code",
   "execution_count": 6,
   "metadata": {},
   "outputs": [],
   "source": [
    "## Because there are columns label -1, that means when you upload to Kaggle, it doesn't count into point\n",
    "## However, that means we don't know the answer, so we will filter the comment that all label -1\n",
    "test = test[(test.toxic!=-1)& (test.severe_toxic!=-1)& (test.obscene!=-1)& (test.threat!=-1)& (test.insult!=-1)& (test.identity_hate!=-1)]"
   ]
  },
  {
   "cell_type": "code",
   "execution_count": 7,
   "metadata": {},
   "outputs": [
    {
     "data": {
      "image/png": "[encoded data removed]",
      "text/plain": [
       "<Figure size 576x288 with 1 Axes>"
      ]
     },
     "metadata": {
      "needs_background": "light"
     },
     "output_type": "display_data"
    }
   ],
   "source": [
    "## check the number in each class\n",
    "x=test.iloc[:,2:].sum()\n",
    "plt.figure(figsize=(8,4))\n",
    "ax= sns.barplot(x.index, x.values, alpha=0.8)\n",
    "plt.title(\"Number in each class\")\n",
    "plt.ylabel('Number', fontsize=12)\n",
    "plt.xlabel('Class', fontsize=12)\n",
    "#adding the text labels\n",
    "rects = ax.patches\n",
    "labels = x.values\n",
    "for rect, label in zip(rects, labels):\n",
    "    height = rect.get_height()\n",
    "    ax.text(rect.get_x() + rect.get_width()/2, height + 5, label, ha='center', va='bottom')\n",
    "\n",
    "plt.show()"
   ]
  },
  {
   "cell_type": "code",
   "execution_count": 10,
   "metadata": {},
   "outputs": [],
   "source": [
    "## output test data\n",
    "test.to_csv('test_new.csv')"
   ]
  },
  {
   "cell_type": "code",
   "execution_count": 7,
   "metadata": {},
   "outputs": [
    {
     "data": {
      "image/png": "[encoded data removed]",
      "text/plain": [
       "<Figure size 576x288 with 1 Axes>"
      ]
     },
     "metadata": {
      "needs_background": "light"
     },
     "output_type": "display_data"
    }
   ],
   "source": [
    "## check multiple tagging\n",
    "rowsums=test.iloc[:,2:].sum(axis=1)\n",
    "x=rowsums.value_counts()\n",
    "\n",
    "#plot\n",
    "plt.figure(figsize=(8,4))\n",
    "ax = sns.barplot(x.index, x.values, alpha=0.8)\n",
    "plt.title(\"Multiple tags per comment\")\n",
    "plt.ylabel('Number', fontsize=12)\n",
    "plt.xlabel('How many tags', fontsize=12)\n",
    "\n",
    "#adding the text labels\n",
    "rects = ax.patches\n",
    "labels = x.values\n",
    "for rect, label in zip(rects, labels):\n",
    "    height = rect.get_height()\n",
    "    ax.text(rect.get_x() + rect.get_width()/2, height + 5, label, ha='center', va='bottom')\n",
    "\n",
    "plt.show()"
   ]
  },
  {
   "cell_type": "markdown",
   "metadata": {},
   "source": [
    "## Train data\n",
    "#### address the train data to original, lower the number of clean data, balance, augment data"
   ]
  },
  {
   "cell_type": "code",
   "execution_count": 8,
   "metadata": {},
   "outputs": [
    {
     "name": "stdout",
     "output_type": "stream",
     "text": [
      "Total comments =  159571\n",
      "Total clean comments =  143346\n",
      "Total tags = 35098\n"
     ]
    },
    {
     "data": {
      "image/png": "[encoded data removed]",
      "text/plain": [
       "<Figure size 576x288 with 1 Axes>"
      ]
     },
     "metadata": {
      "needs_background": "light"
     },
     "output_type": "display_data"
    }
   ],
   "source": [
    "x=train.iloc[:,2:].sum()\n",
    "#marking comments without any tags as \"clean\"\n",
    "rowsums=train.iloc[:,2:].sum(axis=1)\n",
    "train['clean']=(rowsums==0)\n",
    "#count number of clean entries\n",
    "train['clean'].sum()\n",
    "print(\"Total comments = \",len(train))\n",
    "print(\"Total clean comments = \",train['clean'].sum())\n",
    "print(\"Total tags =\",x.sum())\n",
    "## calculate\n",
    "x=train.iloc[:,2:].sum()\n",
    "plt.figure(figsize=(8,4))\n",
    "ax= sns.barplot(x.index, x.values, alpha=0.8)\n",
    "plt.title(\"Number in each class\")\n",
    "plt.ylabel('Number', fontsize=12)\n",
    "plt.xlabel('Class', fontsize=12)\n",
    "#adding the text labels\n",
    "rects = ax.patches\n",
    "labels = x.values\n",
    "for rect, label in zip(rects, labels):\n",
    "    height = rect.get_height()\n",
    "    ax.text(rect.get_x() + rect.get_width()/2, height + 5, label, ha='center', va='bottom')\n",
    "\n",
    "plt.show()"
   ]
  },
  {
   "cell_type": "markdown",
   "metadata": {},
   "source": [
    "##### The number in each class in our original data"
   ]
  },
  {
   "cell_type": "markdown",
   "metadata": {},
   "source": [
    "#### lower the clean to 10000"
   ]
  },
  {
   "cell_type": "code",
   "execution_count": 28,
   "metadata": {},
   "outputs": [
    {
     "data": {
      "text/html": [
       "<div>\n",
       "<style scoped>\n",
       "    .dataframe tbody tr th:only-of-type {\n",
       "        vertical-align: middle;\n",
       "    }\n",
       "\n",
       "    .dataframe tbody tr th {\n",
       "        vertical-align: top;\n",
       "    }\n",
       "\n",
       "    .dataframe thead th {\n",
       "        text-align: right;\n",
       "    }\n",
       "</style>\n",
       "<table border=\"1\" class=\"dataframe\">\n",
       "  <thead>\n",
       "    <tr style=\"text-align: right;\">\n",
       "      <th></th>\n",
       "      <th>id</th>\n",
       "      <th>comment_text</th>\n",
       "      <th>toxic</th>\n",
       "      <th>severe_toxic</th>\n",
       "      <th>obscene</th>\n",
       "      <th>threat</th>\n",
       "      <th>insult</th>\n",
       "      <th>identity_hate</th>\n",
       "      <th>clean</th>\n",
       "    </tr>\n",
       "  </thead>\n",
       "  <tbody>\n",
       "    <tr>\n",
       "      <th>142280</th>\n",
       "      <td>f903cb820b6ff4c5</td>\n",
       "      <td>sexual orientation mindset lol. Go die now. Th...</td>\n",
       "      <td>1</td>\n",
       "      <td>0</td>\n",
       "      <td>0</td>\n",
       "      <td>0</td>\n",
       "      <td>1</td>\n",
       "      <td>0</td>\n",
       "      <td>False</td>\n",
       "    </tr>\n",
       "    <tr>\n",
       "      <th>77793</th>\n",
       "      <td>d058a3d7dc0964b1</td>\n",
       "      <td>\"\\n\\n Message? What message? I didn't realise ...</td>\n",
       "      <td>1</td>\n",
       "      <td>0</td>\n",
       "      <td>0</td>\n",
       "      <td>0</td>\n",
       "      <td>0</td>\n",
       "      <td>0</td>\n",
       "      <td>False</td>\n",
       "    </tr>\n",
       "    <tr>\n",
       "      <th>110056</th>\n",
       "      <td>4caeda8063a342b5</td>\n",
       "      <td>Also, I burn jews for fun.</td>\n",
       "      <td>1</td>\n",
       "      <td>0</td>\n",
       "      <td>0</td>\n",
       "      <td>1</td>\n",
       "      <td>0</td>\n",
       "      <td>1</td>\n",
       "      <td>False</td>\n",
       "    </tr>\n",
       "    <tr>\n",
       "      <th>138917</th>\n",
       "      <td>e7726cecd9e8882d</td>\n",
       "      <td>Paul Thornton\\nHi, hope you are well, the Paul...</td>\n",
       "      <td>0</td>\n",
       "      <td>0</td>\n",
       "      <td>0</td>\n",
       "      <td>0</td>\n",
       "      <td>0</td>\n",
       "      <td>0</td>\n",
       "      <td>True</td>\n",
       "    </tr>\n",
       "    <tr>\n",
       "      <th>113764</th>\n",
       "      <td>605bc006919e6d2d</td>\n",
       "      <td>and the website where i got it from,</td>\n",
       "      <td>0</td>\n",
       "      <td>0</td>\n",
       "      <td>0</td>\n",
       "      <td>0</td>\n",
       "      <td>0</td>\n",
       "      <td>0</td>\n",
       "      <td>True</td>\n",
       "    </tr>\n",
       "  </tbody>\n",
       "</table>\n",
       "</div>"
      ],
      "text/plain": [
       "                      id                                       comment_text  \\\n",
       "142280  f903cb820b6ff4c5  sexual orientation mindset lol. Go die now. Th...   \n",
       "77793   d058a3d7dc0964b1  \"\\n\\n Message? What message? I didn't realise ...   \n",
       "110056  4caeda8063a342b5                         Also, I burn jews for fun.   \n",
       "138917  e7726cecd9e8882d  Paul Thornton\\nHi, hope you are well, the Paul...   \n",
       "113764  605bc006919e6d2d               and the website where i got it from,   \n",
       "\n",
       "        toxic  severe_toxic  obscene  threat  insult  identity_hate  clean  \n",
       "142280      1             0        0       0       1              0  False  \n",
       "77793       1             0        0       0       0              0  False  \n",
       "110056      1             0        0       1       0              1  False  \n",
       "138917      0             0        0       0       0              0   True  \n",
       "113764      0             0        0       0       0              0   True  "
      ]
     },
     "execution_count": 28,
     "metadata": {},
     "output_type": "execute_result"
    }
   ],
   "source": [
    "## lower the clean to 10000\n",
    "## filter clean\n",
    "clean = train[train['clean']==True].sample(10000)\n",
    "## filter notean\n",
    "data_lower = train[train['clean']==False]\n",
    "## combine\n",
    "data_lower = data_lower.append(clean)\n",
    "data_lower = shuffle(data_lower)\n",
    "data_lower.head()"
   ]
  },
  {
   "cell_type": "code",
   "execution_count": 29,
   "metadata": {},
   "outputs": [
    {
     "data": {
      "image/png": "[encoded data removed]",
      "text/plain": [
       "<Figure size 576x288 with 1 Axes>"
      ]
     },
     "metadata": {
      "needs_background": "light"
     },
     "output_type": "display_data"
    }
   ],
   "source": [
    "## calculate\n",
    "x=data_lower.iloc[:,2:].sum()\n",
    "plt.figure(figsize=(8,4))\n",
    "ax= sns.barplot(x.index, x.values, alpha=0.8)\n",
    "plt.title(\"Number in each class\")\n",
    "plt.ylabel('Number', fontsize=12)\n",
    "plt.xlabel('Class', fontsize=12)\n",
    "#adding the text labels\n",
    "rects = ax.patches\n",
    "labels = x.values\n",
    "for rect, label in zip(rects, labels):\n",
    "    height = rect.get_height()\n",
    "    ax.text(rect.get_x() + rect.get_width()/2, height + 5, label, ha='center', va='bottom')\n",
    "\n",
    "plt.show()"
   ]
  },
  {
   "cell_type": "markdown",
   "metadata": {},
   "source": [
    "##### We can see the number of clean reduce to 10000"
   ]
  },
  {
   "cell_type": "markdown",
   "metadata": {},
   "source": [
    "#### Downsample and upsample"
   ]
  },
  {
   "cell_type": "code",
   "execution_count": 56,
   "metadata": {},
   "outputs": [
    {
     "name": "stdout",
     "output_type": "stream",
     "text": [
      "only threat: 22\n",
      "only identity_hate: 54\n",
      "only severe_toxic: 0\n",
      "only threat and identity_hate: 0\n"
     ]
    }
   ],
   "source": [
    "## Downsample and upsample\n",
    "## only threat\n",
    "threat = train[(train['threat']==1) & (train['identity_hate']==0) & (train['severe_toxic']==0)& (train['toxic']==0)& (train['obscene']==0)& (train['insult']==0)]\n",
    "print('only threat:', len(threat))\n",
    "## only identity_hate\n",
    "identity_hate = train[(train['identity_hate']==1) & (train['threat']==0) & (train['severe_toxic']==0)& (train['toxic']==0)& (train['obscene']==0)& (train['insult']==0)]\n",
    "print('only identity_hate:', len(identity_hate))\n",
    "## only severe_toxic\n",
    "severe_toxic = train[(train['severe_toxic']==1) & (train['threat']==0) & (train['identity_hate']==0)& (train['toxic']==0)& (train['obscene']==0)& (train['insult']==0)]\n",
    "print('only severe_toxic:', len(severe_toxic))\n",
    "## only threat and identity_hate\n",
    "threat_hate = train[(train['severe_toxic']==0) & (train['threat']==1) & (train['identity_hate']==1)& (train['toxic']==0)& (train['obscene']==0)& (train['insult']==0)]\n",
    "print('only threat and identity_hate:', len(threat_hate))"
   ]
  },
  {
   "cell_type": "code",
   "execution_count": 35,
   "metadata": {},
   "outputs": [],
   "source": [
    "## base on the data distribution we have, it impossible to upsample and downsample to let each class have similar number\n",
    "## the only thing we can do is to let the more quantity drop a little, the less quantity rise a little"
   ]
  },
  {
   "cell_type": "code",
   "execution_count": 58,
   "metadata": {},
   "outputs": [],
   "source": [
    "## 50 times only threat and identity_hate\n",
    "tmp = train[(train['threat']==1) | (train['identity_hate']==1) | (train['severe_toxic']==1)]\n",
    "tmp = tmp[(tmp['toxic']==0) & (tmp['obscene']==0) & (tmp['insult']==0)]  \n",
    "tmp = pd.concat([tmp]*50).sort_index()\n",
    "## lower clean\n",
    "balance = pd.concat([train, tmp])\n",
    "clean = balance[balance['clean']==True].sample(15000)\n",
    "balance = balance[(balance['clean']==False)]\n",
    "balance = pd.concat([balance, clean])"
   ]
  },
  {
   "cell_type": "code",
   "execution_count": 59,
   "metadata": {},
   "outputs": [
    {
     "data": {
      "image/png": "[encoded data removed]",
      "text/plain": [
       "<Figure size 576x288 with 1 Axes>"
      ]
     },
     "metadata": {
      "needs_background": "light"
     },
     "output_type": "display_data"
    }
   ],
   "source": [
    "## check the number in each class\n",
    "x=balance.iloc[:,2:].sum()\n",
    "plt.figure(figsize=(8,4))\n",
    "ax= sns.barplot(x.index, x.values, alpha=0.8)\n",
    "plt.title(\"Number in each class\")\n",
    "plt.ylabel('Number', fontsize=12)\n",
    "plt.xlabel('Class', fontsize=12)\n",
    "#adding the text labels\n",
    "rects = ax.patches\n",
    "labels = x.values\n",
    "for rect, label in zip(rects, labels):\n",
    "    height = rect.get_height()\n",
    "    ax.text(rect.get_x() + rect.get_width()/2, height + 5, label, ha='center', va='bottom')\n",
    "\n",
    "plt.show()"
   ]
  },
  {
   "cell_type": "markdown",
   "metadata": {},
   "source": [
    "##### lower the clean and increase a little number of severe_toxic, threat, and identity_hate"
   ]
  },
  {
   "cell_type": "markdown",
   "metadata": {},
   "source": [
    "#### data augmentation using language translation"
   ]
  },
  {
   "cell_type": "code",
   "execution_count": 112,
   "metadata": {},
   "outputs": [],
   "source": [
    "## set the language we want to translate\n",
    "language = [\"es\", 'zh-tw', \"de\", \"fr\", \"ar\", \"te\", \"hi\", \"ja\", \"fa\", 'ru', \"sq\", \"bg\", \"nl\", \"gu\", \"ig\", \"kk\", \"mt\", \"ps\", 'pt', 'ko']\n",
    "## define the function to transfer the comment to one language and translate back to English\n",
    "def data_augmentation(message, language):\n",
    "    augmented_messages = []\n",
    "    for i in range(len(language)) :\n",
    "        try:\n",
    "            translator = Translator()\n",
    "            text = translator.translate(message, dest=language[i])\n",
    "            text = text.text\n",
    "            translator = Translator()\n",
    "            text = translator.translate(text, dest='en')\n",
    "            text = text.text\n",
    "        except:\n",
    "            text = message\n",
    "        \n",
    "        augmented_messages.append(str(text))\n",
    "\n",
    "    return augmented_messages"
   ]
  },
  {
   "cell_type": "code",
   "execution_count": 121,
   "metadata": {},
   "outputs": [
    {
     "name": "stdout",
     "output_type": "stream",
     "text": [
      "spend: 1000.0014510154724  seconds\n"
     ]
    }
   ],
   "source": [
    "## augment threat\n",
    "threat = train[(train['threat']==1) & (train['identity_hate']==0) & (train['severe_toxic']==0)& (train['toxic']==0)& (train['obscene']==0)& (train['insult']==0)]\n",
    "t1 = time.time()\n",
    "threat_aug = []\n",
    "for i in threat['comment_text']:\n",
    "    threat_aug.extend(data_augmentation(i, language))\n",
    "t2 = time.time()\n",
    "print('spend:', str(t2 - t1), ' seconds')"
   ]
  },
  {
   "cell_type": "code",
   "execution_count": 139,
   "metadata": {},
   "outputs": [
    {
     "data": {
      "text/html": [
       "<div>\n",
       "<style scoped>\n",
       "    .dataframe tbody tr th:only-of-type {\n",
       "        vertical-align: middle;\n",
       "    }\n",
       "\n",
       "    .dataframe tbody tr th {\n",
       "        vertical-align: top;\n",
       "    }\n",
       "\n",
       "    .dataframe thead th {\n",
       "        text-align: right;\n",
       "    }\n",
       "</style>\n",
       "<table border=\"1\" class=\"dataframe\">\n",
       "  <thead>\n",
       "    <tr style=\"text-align: right;\">\n",
       "      <th></th>\n",
       "      <th>id</th>\n",
       "      <th>comment_text</th>\n",
       "      <th>toxic</th>\n",
       "      <th>severe_toxic</th>\n",
       "      <th>obscene</th>\n",
       "      <th>threat</th>\n",
       "      <th>insult</th>\n",
       "      <th>identity_hate</th>\n",
       "      <th>clean</th>\n",
       "    </tr>\n",
       "  </thead>\n",
       "  <tbody>\n",
       "    <tr>\n",
       "      <th>0</th>\n",
       "      <td>09eb7d87b8c24ca5</td>\n",
       "      <td>Please stop. If you continue to ignore our pol...</td>\n",
       "      <td>0</td>\n",
       "      <td>0</td>\n",
       "      <td>0</td>\n",
       "      <td>1</td>\n",
       "      <td>0</td>\n",
       "      <td>0</td>\n",
       "      <td>False</td>\n",
       "    </tr>\n",
       "    <tr>\n",
       "      <th>1</th>\n",
       "      <td>09eb7d87b8c24ca5</td>\n",
       "      <td>please stop. If you continue to ignore our pol...</td>\n",
       "      <td>0</td>\n",
       "      <td>0</td>\n",
       "      <td>0</td>\n",
       "      <td>1</td>\n",
       "      <td>0</td>\n",
       "      <td>0</td>\n",
       "      <td>False</td>\n",
       "    </tr>\n",
       "    <tr>\n",
       "      <th>2</th>\n",
       "      <td>09eb7d87b8c24ca5</td>\n",
       "      <td>Please stop. If you continue to ignore our gui...</td>\n",
       "      <td>0</td>\n",
       "      <td>0</td>\n",
       "      <td>0</td>\n",
       "      <td>1</td>\n",
       "      <td>0</td>\n",
       "      <td>0</td>\n",
       "      <td>False</td>\n",
       "    </tr>\n",
       "    <tr>\n",
       "      <th>3</th>\n",
       "      <td>09eb7d87b8c24ca5</td>\n",
       "      <td>Please stop. If you continue to ignore our pol...</td>\n",
       "      <td>0</td>\n",
       "      <td>0</td>\n",
       "      <td>0</td>\n",
       "      <td>1</td>\n",
       "      <td>0</td>\n",
       "      <td>0</td>\n",
       "      <td>False</td>\n",
       "    </tr>\n",
       "    <tr>\n",
       "      <th>4</th>\n",
       "      <td>09eb7d87b8c24ca5</td>\n",
       "      <td>please stop. If you continue to ignore our pol...</td>\n",
       "      <td>0</td>\n",
       "      <td>0</td>\n",
       "      <td>0</td>\n",
       "      <td>1</td>\n",
       "      <td>0</td>\n",
       "      <td>0</td>\n",
       "      <td>False</td>\n",
       "    </tr>\n",
       "  </tbody>\n",
       "</table>\n",
       "</div>"
      ],
      "text/plain": [
       "                 id                                       comment_text toxic  \\\n",
       "0  09eb7d87b8c24ca5  Please stop. If you continue to ignore our pol...     0   \n",
       "1  09eb7d87b8c24ca5  please stop. If you continue to ignore our pol...     0   \n",
       "2  09eb7d87b8c24ca5  Please stop. If you continue to ignore our gui...     0   \n",
       "3  09eb7d87b8c24ca5  Please stop. If you continue to ignore our pol...     0   \n",
       "4  09eb7d87b8c24ca5  please stop. If you continue to ignore our pol...     0   \n",
       "\n",
       "  severe_toxic obscene threat insult identity_hate  clean  \n",
       "0            0       0      1      0             0  False  \n",
       "1            0       0      1      0             0  False  \n",
       "2            0       0      1      0             0  False  \n",
       "3            0       0      1      0             0  False  \n",
       "4            0       0      1      0             0  False  "
      ]
     },
     "execution_count": 139,
     "metadata": {},
     "output_type": "execute_result"
    }
   ],
   "source": [
    "## concact with id, class\n",
    "threat_aug_df = pd.DataFrame(threat_aug)\n",
    "threat_tmp = pd.DataFrame(np.repeat(threat.values,20,axis=0))\n",
    "threat_tmp.columns = threat.columns\n",
    "threat_tmp['comment_text'] = threat_aug_df\n",
    "threat_tmp.head()"
   ]
  },
  {
   "cell_type": "code",
   "execution_count": 141,
   "metadata": {},
   "outputs": [
    {
     "data": {
      "text/plain": [
       "160011"
      ]
     },
     "execution_count": 141,
     "metadata": {},
     "output_type": "execute_result"
    }
   ],
   "source": [
    "## concact back to table\n",
    "train_aug = pd.concat([train, threat_tmp])\n",
    "len(train_aug)"
   ]
  },
  {
   "cell_type": "code",
   "execution_count": 122,
   "metadata": {},
   "outputs": [
    {
     "name": "stdout",
     "output_type": "stream",
     "text": [
      "spend: 2106.8702116012573  seconds\n"
     ]
    }
   ],
   "source": [
    "## augment identity_hate\n",
    "identity_hate = train[(train['identity_hate']==1) & (train['threat']==0) & (train['severe_toxic']==0)& (train['toxic']==0)& (train['obscene']==0)& (train['insult']==0)]\n",
    "t1 = time.time()\n",
    "identity_hate_aug = []\n",
    "for i in identity_hate['comment_text']:\n",
    "    identity_hate_aug.extend(data_augmentation(i, language))\n",
    "t2 = time.time()\n",
    "print('spend:', str(t2 - t1), ' seconds')"
   ]
  },
  {
   "cell_type": "code",
   "execution_count": 142,
   "metadata": {},
   "outputs": [
    {
     "data": {
      "text/html": [
       "<div>\n",
       "<style scoped>\n",
       "    .dataframe tbody tr th:only-of-type {\n",
       "        vertical-align: middle;\n",
       "    }\n",
       "\n",
       "    .dataframe tbody tr th {\n",
       "        vertical-align: top;\n",
       "    }\n",
       "\n",
       "    .dataframe thead th {\n",
       "        text-align: right;\n",
       "    }\n",
       "</style>\n",
       "<table border=\"1\" class=\"dataframe\">\n",
       "  <thead>\n",
       "    <tr style=\"text-align: right;\">\n",
       "      <th></th>\n",
       "      <th>id</th>\n",
       "      <th>comment_text</th>\n",
       "      <th>toxic</th>\n",
       "      <th>severe_toxic</th>\n",
       "      <th>obscene</th>\n",
       "      <th>threat</th>\n",
       "      <th>insult</th>\n",
       "      <th>identity_hate</th>\n",
       "      <th>clean</th>\n",
       "    </tr>\n",
       "  </thead>\n",
       "  <tbody>\n",
       "    <tr>\n",
       "      <th>0</th>\n",
       "      <td>09b51ed1ee5e29a1</td>\n",
       "      <td>Dude, you sound like you're a Jew\\n\\nHomosexua...</td>\n",
       "      <td>0</td>\n",
       "      <td>0</td>\n",
       "      <td>0</td>\n",
       "      <td>0</td>\n",
       "      <td>0</td>\n",
       "      <td>1</td>\n",
       "      <td>False</td>\n",
       "    </tr>\n",
       "    <tr>\n",
       "      <th>1</th>\n",
       "      <td>09b51ed1ee5e29a1</td>\n",
       "      <td>Partner, sounds like Jewish\\n\\nGay in the air</td>\n",
       "      <td>0</td>\n",
       "      <td>0</td>\n",
       "      <td>0</td>\n",
       "      <td>0</td>\n",
       "      <td>0</td>\n",
       "      <td>1</td>\n",
       "      <td>False</td>\n",
       "    </tr>\n",
       "    <tr>\n",
       "      <th>2</th>\n",
       "      <td>09b51ed1ee5e29a1</td>\n",
       "      <td>Buddy, sound like you're Jewish\\n\\nGay is in t...</td>\n",
       "      <td>0</td>\n",
       "      <td>0</td>\n",
       "      <td>0</td>\n",
       "      <td>0</td>\n",
       "      <td>0</td>\n",
       "      <td>1</td>\n",
       "      <td>False</td>\n",
       "    </tr>\n",
       "    <tr>\n",
       "      <th>3</th>\n",
       "      <td>09b51ed1ee5e29a1</td>\n",
       "      <td>Mate, it looks like you're jewish\\n\\nCheerfuln...</td>\n",
       "      <td>0</td>\n",
       "      <td>0</td>\n",
       "      <td>0</td>\n",
       "      <td>0</td>\n",
       "      <td>0</td>\n",
       "      <td>1</td>\n",
       "      <td>False</td>\n",
       "    </tr>\n",
       "    <tr>\n",
       "      <th>4</th>\n",
       "      <td>09b51ed1ee5e29a1</td>\n",
       "      <td>Dude, it looks like you're a Jew\\n\\nFun is in ...</td>\n",
       "      <td>0</td>\n",
       "      <td>0</td>\n",
       "      <td>0</td>\n",
       "      <td>0</td>\n",
       "      <td>0</td>\n",
       "      <td>1</td>\n",
       "      <td>False</td>\n",
       "    </tr>\n",
       "  </tbody>\n",
       "</table>\n",
       "</div>"
      ],
      "text/plain": [
       "                 id                                       comment_text toxic  \\\n",
       "0  09b51ed1ee5e29a1  Dude, you sound like you're a Jew\\n\\nHomosexua...     0   \n",
       "1  09b51ed1ee5e29a1      Partner, sounds like Jewish\\n\\nGay in the air     0   \n",
       "2  09b51ed1ee5e29a1  Buddy, sound like you're Jewish\\n\\nGay is in t...     0   \n",
       "3  09b51ed1ee5e29a1  Mate, it looks like you're jewish\\n\\nCheerfuln...     0   \n",
       "4  09b51ed1ee5e29a1  Dude, it looks like you're a Jew\\n\\nFun is in ...     0   \n",
       "\n",
       "  severe_toxic obscene threat insult identity_hate  clean  \n",
       "0            0       0      0      0             1  False  \n",
       "1            0       0      0      0             1  False  \n",
       "2            0       0      0      0             1  False  \n",
       "3            0       0      0      0             1  False  \n",
       "4            0       0      0      0             1  False  "
      ]
     },
     "execution_count": 142,
     "metadata": {},
     "output_type": "execute_result"
    }
   ],
   "source": [
    "## concact with id, class\n",
    "identity_hate_aug_df = pd.DataFrame(identity_hate_aug)\n",
    "identity_hate_tmp = pd.DataFrame(np.repeat(identity_hate.values,20,axis=0))\n",
    "identity_hate_tmp.columns = identity_hate.columns\n",
    "identity_hate_tmp['comment_text'] = identity_hate_aug_df\n",
    "identity_hate_tmp.head()"
   ]
  },
  {
   "cell_type": "code",
   "execution_count": 145,
   "metadata": {},
   "outputs": [
    {
     "data": {
      "text/plain": [
       "161091"
      ]
     },
     "execution_count": 145,
     "metadata": {},
     "output_type": "execute_result"
    }
   ],
   "source": [
    "## concact back to table\n",
    "train_aug = pd.concat([train_aug, identity_hate_tmp])\n",
    "len(train_aug)"
   ]
  },
  {
   "cell_type": "code",
   "execution_count": 156,
   "metadata": {},
   "outputs": [
    {
     "name": "stdout",
     "output_type": "stream",
     "text": [
      "spend: 4669.414079427719  seconds\n"
     ]
    }
   ],
   "source": [
    "## select label with threat, identity_hate, but no toxic to augment\n",
    "tmp = train[(train['identity_hate']==1) | (train['threat']==1)]\n",
    "tmp = tmp[(tmp['toxic']==0)]\n",
    "\n",
    "## augment\n",
    "t1 = time.time()\n",
    "tmp_aug = []\n",
    "for i in tmp['comment_text']:\n",
    "    tmp_aug.extend(data_augmentation(i, language))\n",
    "t2 = time.time()\n",
    "print('spend:', str(t2 - t1), ' seconds')"
   ]
  },
  {
   "cell_type": "code",
   "execution_count": 157,
   "metadata": {},
   "outputs": [
    {
     "data": {
      "text/plain": [
       "163731"
      ]
     },
     "execution_count": 157,
     "metadata": {},
     "output_type": "execute_result"
    }
   ],
   "source": [
    "## concact with id, class\n",
    "tmp_aug_df = pd.DataFrame(tmp_aug)\n",
    "tmp_tmp = pd.DataFrame(np.repeat(tmp.values,20,axis=0))\n",
    "tmp_tmp.columns = tmp.columns\n",
    "tmp_tmp['comment_text'] = tmp_aug_df\n",
    "tmp_tmp.head()\n",
    "## concact back to table\n",
    "train_aug = pd.concat([train_aug, tmp_tmp])\n",
    "len(train_aug)"
   ]
  },
  {
   "cell_type": "code",
   "execution_count": 158,
   "metadata": {},
   "outputs": [
    {
     "data": {
      "image/png": "[encoded data removed]",
      "text/plain": [
       "<Figure size 576x288 with 1 Axes>"
      ]
     },
     "metadata": {
      "needs_background": "light"
     },
     "output_type": "display_data"
    }
   ],
   "source": [
    "## check the number in each class\n",
    "x=train_aug.iloc[:,2:].sum()\n",
    "plt.figure(figsize=(8,4))\n",
    "ax= sns.barplot(x.index, x.values, alpha=0.8)\n",
    "plt.title(\"Number in each class\")\n",
    "plt.ylabel('Number', fontsize=12)\n",
    "plt.xlabel('Class', fontsize=12)\n",
    "#adding the text labels\n",
    "rects = ax.patches\n",
    "labels = x.values\n",
    "for rect, label in zip(rects, labels):\n",
    "    height = rect.get_height()\n",
    "    ax.text(rect.get_x() + rect.get_width()/2, height + 5, label, ha='center', va='bottom')\n",
    "\n",
    "plt.show()"
   ]
  },
  {
   "cell_type": "code",
   "execution_count": 50,
   "metadata": {},
   "outputs": [],
   "source": [
    "#### SMOTE don't support muti-label"
   ]
  },
  {
   "cell_type": "code",
   "execution_count": 159,
   "metadata": {},
   "outputs": [],
   "source": [
    "## output the dataset\n",
    "data_lower.to_csv('data_lower.csv')\n",
    "balance.to_csv('balance.csv')\n",
    "train_aug.to_csv('train_aug.csv')"
   ]
  },
  {
   "cell_type": "markdown",
   "metadata": {},
   "source": [
    "#### Now we have four dataset which are:\n",
    "    - Orginal \n",
    "    - lower the clear data \n",
    "    - upsample and downsample\n",
    "    - augment data\n",
    "#### SMOTE don't support muti-label so we skip SMOTE"
   ]
  },
  {
   "cell_type": "code",
   "execution_count": 2,
   "metadata": {},
   "outputs": [],
   "source": [
    "#### load data\n",
    "train = pd.read_csv('C:\\\\Users\\\\admin\\\\Desktop\\\\capstone\\\\project\\\\train.csv\\\\train.csv')\n",
    "train_lower = pd.read_csv('data_lower.csv')\n",
    "train_up_down = pd.read_csv('balance.csv')\n",
    "train_aug = pd.read_csv('train_aug.csv')\n",
    "test = pd.read_csv('test_new.csv')"
   ]
  },
  {
   "cell_type": "markdown",
   "metadata": {},
   "source": [
    "## Baseline model - LSTM"
   ]
  },
  {
   "cell_type": "code",
   "execution_count": 3,
   "metadata": {},
   "outputs": [],
   "source": [
    "## set the size of word vector\n",
    "embed_size = 50 \n",
    "## how many unique words to use (i.e num rows in embedding vector)\n",
    "max_features = 20000 \n",
    "## max number of words in a comment to use\n",
    "maxlen = 100 \n",
    "## use the glove embedding, need to download it first\n",
    "EMBEDDING_FILE = 'C:\\\\Users\\\\admin\\\\Desktop\\\\capstone\\\\project\\\\glove.6B.50d.txt\\\\glove.6B.50d.txt'"
   ]
  },
  {
   "cell_type": "markdown",
   "metadata": {},
   "source": [
    "#### Original"
   ]
  },
  {
   "cell_type": "code",
   "execution_count": 4,
   "metadata": {},
   "outputs": [],
   "source": [
    "## make sure there is no NA values\n",
    "list_sentences_train = train[\"comment_text\"].fillna(\"_na_\").values\n",
    "list_classes = [\"toxic\", \"severe_toxic\", \"obscene\", \"threat\", \"insult\", \"identity_hate\"]\n",
    "y = train[list_classes].values\n",
    "list_sentences_test = test[\"comment_text\"].fillna(\"_na_\").values"
   ]
  },
  {
   "cell_type": "code",
   "execution_count": 5,
   "metadata": {},
   "outputs": [],
   "source": [
    "## tolenize the comment\n",
    "tokenizer = Tokenizer(num_words=max_features)\n",
    "tokenizer.fit_on_texts(list(list_sentences_train))\n",
    "list_tokenized_train = tokenizer.texts_to_sequences(list_sentences_train)\n",
    "list_tokenized_test = tokenizer.texts_to_sequences(list_sentences_test)\n",
    "X_t = pad_sequences(list_tokenized_train, maxlen=maxlen)\n",
    "X_te = pad_sequences(list_tokenized_test, maxlen=maxlen)"
   ]
  },
  {
   "cell_type": "code",
   "execution_count": 6,
   "metadata": {},
   "outputs": [
    {
     "name": "stderr",
     "output_type": "stream",
     "text": [
      "D:\\anaconda3\\lib\\site-packages\\IPython\\core\\interactiveshell.py:3263: FutureWarning: arrays to stack must be passed as a \"sequence\" type such as list or tuple. Support for non-sequence iterables such as generators is deprecated as of NumPy 1.16 and will raise an error in the future.\n",
      "  if (await self.run_code(code, result,  async_=asy)):\n"
     ]
    },
    {
     "data": {
      "text/plain": [
       "(0.020940498, 0.6441043)"
      ]
     },
     "execution_count": 6,
     "metadata": {},
     "output_type": "execute_result"
    }
   ],
   "source": [
    "def get_coefs(word,*arr): \n",
    "    return word, np.asarray(arr, dtype='float32')\n",
    "embeddings_index = dict(get_coefs(*o.strip().split()) for o in open(EMBEDDING_FILE, 'r',encoding=\"utf-8\"))\n",
    "all_embs = np.stack(embeddings_index.values())\n",
    "emb_mean,emb_std = all_embs.mean(), all_embs.std()\n",
    "emb_mean,emb_std"
   ]
  },
  {
   "cell_type": "code",
   "execution_count": 7,
   "metadata": {},
   "outputs": [],
   "source": [
    "word_index = tokenizer.word_index\n",
    "nb_words = min(max_features, len(word_index))\n",
    "embedding_matrix = np.random.normal(emb_mean, emb_std, (nb_words, embed_size))\n",
    "for word, i in word_index.items():\n",
    "    if i >= max_features: continue\n",
    "    embedding_vector = embeddings_index.get(word)\n",
    "    if embedding_vector is not None: embedding_matrix[i] = embedding_vector"
   ]
  },
  {
   "cell_type": "code",
   "execution_count": 8,
   "metadata": {},
   "outputs": [
    {
     "name": "stdout",
     "output_type": "stream",
     "text": [
      "WARNING:tensorflow:Layer lstm will not use cuDNN kernel since it doesn't meet the cuDNN kernel criteria. It will use generic GPU kernel as fallback when running on GPU\n",
      "WARNING:tensorflow:Layer lstm will not use cuDNN kernel since it doesn't meet the cuDNN kernel criteria. It will use generic GPU kernel as fallback when running on GPU\n",
      "WARNING:tensorflow:Layer lstm will not use cuDNN kernel since it doesn't meet the cuDNN kernel criteria. It will use generic GPU kernel as fallback when running on GPU\n",
      "Model: \"functional_1\"\n",
      "_________________________________________________________________\n",
      "Layer (type)                 Output Shape              Param #   \n",
      "=================================================================\n",
      "input_1 (InputLayer)         [(None, 100)]             0         \n",
      "_________________________________________________________________\n",
      "embedding (Embedding)        (None, 100, 50)           1000000   \n",
      "_________________________________________________________________\n",
      "bidirectional (Bidirectional (None, 100, 100)          40400     \n",
      "_________________________________________________________________\n",
      "global_max_pooling1d (Global (None, 100)               0         \n",
      "_________________________________________________________________\n",
      "dense (Dense)                (None, 50)                5050      \n",
      "_________________________________________________________________\n",
      "dropout (Dropout)            (None, 50)                0         \n",
      "_________________________________________________________________\n",
      "dense_1 (Dense)              (None, 6)                 306       \n",
      "=================================================================\n",
      "Total params: 1,045,756\n",
      "Trainable params: 1,045,756\n",
      "Non-trainable params: 0\n",
      "_________________________________________________________________\n"
     ]
    }
   ],
   "source": [
    "## define the model\n",
    "inp = Input(shape=(maxlen,))\n",
    "x = Embedding(max_features, embed_size, weights=[embedding_matrix])(inp)\n",
    "x = Bidirectional(LSTM(50, return_sequences=True, dropout=0.1, recurrent_dropout=0.1))(x)\n",
    "x = GlobalMaxPool1D()(x)\n",
    "x = Dense(50, activation=\"relu\")(x)\n",
    "x = Dropout(0.1)(x)\n",
    "x = Dense(6, activation=\"sigmoid\")(x)\n",
    "model = Model(inputs=inp, outputs=x)\n",
    "model.compile(loss='binary_crossentropy', optimizer='adam', metrics=['accuracy'])\n",
    "model.summary()"
   ]
  },
  {
   "cell_type": "code",
   "execution_count": 9,
   "metadata": {
    "scrolled": true
   },
   "outputs": [
    {
     "name": "stdout",
     "output_type": "stream",
     "text": [
      "Epoch 1/50\n",
      "437/437 [==============================] - ETA: 0s - loss: 0.0920 - accuracy: 0.8317\n",
      "Epoch 00001: val_loss improved from inf to 0.05496, saving model to C:\\Users\\admin\\Desktop\\capstone\\project\\original_modelbest.hdf5\n",
      "437/437 [==============================] - 1052s 2s/step - loss: 0.0920 - accuracy: 0.8317 - val_loss: 0.0550 - val_accuracy: 0.9940\n",
      "Epoch 2/50\n",
      "437/437 [==============================] - ETA: 0s - loss: 0.0518 - accuracy: 0.9392\n",
      "Epoch 00002: val_loss improved from 0.05496 to 0.05173, saving model to C:\\Users\\admin\\Desktop\\capstone\\project\\original_modelbest.hdf5\n",
      "437/437 [==============================] - 1030s 2s/step - loss: 0.0518 - accuracy: 0.9392 - val_loss: 0.0517 - val_accuracy: 0.9940\n",
      "Epoch 3/50\n",
      "437/437 [==============================] - ETA: 0s - loss: 0.0471 - accuracy: 0.9529\n",
      "Epoch 00003: val_loss improved from 0.05173 to 0.04803, saving model to C:\\Users\\admin\\Desktop\\capstone\\project\\original_modelbest.hdf5\n",
      "437/437 [==============================] - 1066s 2s/step - loss: 0.0471 - accuracy: 0.9529 - val_loss: 0.0480 - val_accuracy: 0.9940\n",
      "Epoch 4/50\n",
      "437/437 [==============================] - ETA: 0s - loss: 0.0438 - accuracy: 0.9605\n",
      "Epoch 00004: val_loss did not improve from 0.04803\n",
      "437/437 [==============================] - 983s 2s/step - loss: 0.0438 - accuracy: 0.9605 - val_loss: 0.0485 - val_accuracy: 0.9935\n",
      "Epoch 5/50\n",
      "437/437 [==============================] - ETA: 0s - loss: 0.0411 - accuracy: 0.9491\n",
      "Epoch 00005: val_loss improved from 0.04803 to 0.04698, saving model to C:\\Users\\admin\\Desktop\\capstone\\project\\original_modelbest.hdf5\n",
      "437/437 [==============================] - 999s 2s/step - loss: 0.0411 - accuracy: 0.9491 - val_loss: 0.0470 - val_accuracy: 0.9906\n",
      "Epoch 6/50\n",
      "437/437 [==============================] - ETA: 0s - loss: 0.0389 - accuracy: 0.9370\n",
      "Epoch 00006: val_loss did not improve from 0.04698\n",
      "437/437 [==============================] - 997s 2s/step - loss: 0.0389 - accuracy: 0.9370 - val_loss: 0.0470 - val_accuracy: 0.9782\n",
      "Epoch 7/50\n",
      "437/437 [==============================] - ETA: 0s - loss: 0.0368 - accuracy: 0.9200\n",
      "Epoch 00007: val_loss did not improve from 0.04698\n",
      "437/437 [==============================] - 999s 2s/step - loss: 0.0368 - accuracy: 0.9200 - val_loss: 0.0480 - val_accuracy: 0.9929\n",
      "Epoch 8/50\n",
      "437/437 [==============================] - ETA: 0s - loss: 0.0351 - accuracy: 0.9198\n",
      "Epoch 00008: val_loss did not improve from 0.04698\n",
      "437/437 [==============================] - 1001s 2s/step - loss: 0.0351 - accuracy: 0.9198 - val_loss: 0.0492 - val_accuracy: 0.9922\n",
      "Epoch 9/50\n",
      "437/437 [==============================] - ETA: 0s - loss: 0.0323 - accuracy: 0.9414\n",
      "Epoch 00009: val_loss did not improve from 0.04698\n",
      "437/437 [==============================] - 1029s 2s/step - loss: 0.0323 - accuracy: 0.9414 - val_loss: 0.0492 - val_accuracy: 0.9849\n",
      "Epoch 10/50\n",
      "437/437 [==============================] - ETA: 0s - loss: 0.0317 - accuracy: 0.9254\n",
      "Epoch 00010: val_loss did not improve from 0.04698\n",
      "437/437 [==============================] - 995s 2s/step - loss: 0.0317 - accuracy: 0.9254 - val_loss: 0.0498 - val_accuracy: 0.9747\n",
      "Epoch 00010: early stopping\n"
     ]
    },
    {
     "data": {
      "image/png": "[encoded data removed]",
      "text/plain": [
       "<Figure size 432x288 with 1 Axes>"
      ]
     },
     "metadata": {
      "needs_background": "light"
     },
     "output_type": "display_data"
    },
    {
     "data": {
      "image/png": "[encoded data removed]",
      "text/plain": [
       "<Figure size 432x288 with 1 Axes>"
      ]
     },
     "metadata": {
      "needs_background": "light"
     },
     "output_type": "display_data"
    }
   ],
   "source": [
    "## set the check point to save the best model\n",
    "checkpoint = ModelCheckpoint(filepath='C:\\\\Users\\\\admin\\\\Desktop\\\\capstone\\\\project\\\\original_modelbest.hdf5',\n",
    "                             verbose=1,\n",
    "                             save_best_only=True,\n",
    "                             monitor='val_loss',\n",
    "                             mode='auto')\n",
    "## set the early stop if the val_loss didn't improve\n",
    "earlystopping = EarlyStopping(monitor='val_loss', \n",
    "                              patience=5, \n",
    "                              verbose=1, \n",
    "                              mode='auto')\n",
    "## reduce the learning rate if the val_loss didn't improve\n",
    "ReduceL = ReduceLROnPlateau(monitor='val_loss',\n",
    "                      factor=0.1, \n",
    "                      patience=3, \n",
    "                      verbose=0, \n",
    "                      mode='auto')\n",
    "\n",
    "## traing the model with 256 batch size, 50 epochm and split the train and val 7:3\n",
    "history = model.fit(X_t, y,\n",
    "          batch_size=256, \n",
    "          epochs=50, \n",
    "          validation_split=0.3,\n",
    "          callbacks=[earlystopping, checkpoint, ReduceL])\n",
    "\n",
    "# summarize history for accuracy\n",
    "plt.plot(history.history['accuracy'])\n",
    "plt.plot(history.history['val_accuracy'])\n",
    "plt.title('model accuracy')\n",
    "plt.ylabel('accuracy')\n",
    "plt.xlabel('epoch')\n",
    "plt.legend(['train', 'test'], loc='upper left') \n",
    "plt.show()\n",
    "# summarize history for loss \n",
    "plt.plot(history.history['loss']) \n",
    "plt.plot(history.history['val_loss']) \n",
    "plt.title('model loss')\n",
    "plt.ylabel('loss')\n",
    "plt.xlabel('epoch')\n",
    "plt.legend(['train', 'test'], loc='upper left') \n",
    "plt.show()"
   ]
  },
  {
   "cell_type": "markdown",
   "metadata": {},
   "source": [
    "##### The accuracy of train and test (validation) can go up to near 100% and the loss keep improve to near 15 epoch. "
   ]
  },
  {
   "cell_type": "code",
   "execution_count": 10,
   "metadata": {},
   "outputs": [
    {
     "name": "stdout",
     "output_type": "stream",
     "text": [
      "WARNING:tensorflow:Layer lstm will not use cuDNN kernel since it doesn't meet the cuDNN kernel criteria. It will use generic GPU kernel as fallback when running on GPU\n",
      "WARNING:tensorflow:Layer lstm will not use cuDNN kernel since it doesn't meet the cuDNN kernel criteria. It will use generic GPU kernel as fallback when running on GPU\n",
      "WARNING:tensorflow:Layer lstm will not use cuDNN kernel since it doesn't meet the cuDNN kernel criteria. It will use generic GPU kernel as fallback when running on GPU\n",
      "63/63 [==============================] - 5s 85ms/step\n",
      "accuracy: 0.9679212646013734\n"
     ]
    }
   ],
   "source": [
    "## load best model\n",
    "model = keras.models.load_model('original_modelbest.hdf5')\n",
    "## address test\n",
    "list_sentences_test = test[\"comment_text\"].fillna(\"_na_\").values\n",
    "list_tokenized_test = tokenizer.texts_to_sequences(list_sentences_test)\n",
    "y = pad_sequences(list_tokenized_test, maxlen=maxlen)\n",
    "## predict\n",
    "y_pred = model.predict(y, batch_size=1024, verbose=1)\n",
    "## caculate the accuracy\n",
    "y_pred[y_pred>=0.5] = 1\n",
    "y_pred[y_pred<0.5] = 0 \n",
    "y_true = test[list_classes].values\n",
    "total = 0\n",
    "acc = 0\n",
    "for i in range(len(y_true)):\n",
    "    for j in range(len(y_true[0])):\n",
    "        if y_true[i][j] != -1:\n",
    "            if y_true[i][j] == y_pred[i][j]:\n",
    "                acc +=1\n",
    "            total += 1\n",
    "print('accuracy:', acc/total)"
   ]
  },
  {
   "cell_type": "markdown",
   "metadata": {},
   "source": [
    "#### lower the clear data "
   ]
  },
  {
   "cell_type": "code",
   "execution_count": 11,
   "metadata": {},
   "outputs": [],
   "source": [
    "list_sentences_train = train_lower[\"comment_text\"].fillna(\"_na_\").values\n",
    "list_classes = [\"toxic\", \"severe_toxic\", \"obscene\", \"threat\", \"insult\", \"identity_hate\"]\n",
    "y = train_lower[list_classes].values\n",
    "list_sentences_test = test[\"comment_text\"].fillna(\"_na_\").values"
   ]
  },
  {
   "cell_type": "code",
   "execution_count": 12,
   "metadata": {},
   "outputs": [],
   "source": [
    "tokenizer = Tokenizer(num_words=max_features)\n",
    "tokenizer.fit_on_texts(list(list_sentences_train))\n",
    "list_tokenized_train = tokenizer.texts_to_sequences(list_sentences_train)\n",
    "list_tokenized_test = tokenizer.texts_to_sequences(list_sentences_test)\n",
    "X_t = pad_sequences(list_tokenized_train, maxlen=maxlen)\n",
    "X_te = pad_sequences(list_tokenized_test, maxlen=maxlen)"
   ]
  },
  {
   "cell_type": "code",
   "execution_count": 13,
   "metadata": {},
   "outputs": [
    {
     "data": {
      "text/plain": [
       "(0.020940498, 0.6441043)"
      ]
     },
     "execution_count": 13,
     "metadata": {},
     "output_type": "execute_result"
    }
   ],
   "source": [
    "def get_coefs(word,*arr): \n",
    "    return word, np.asarray(arr, dtype='float32')\n",
    "embeddings_index = dict(get_coefs(*o.strip().split()) for o in open(EMBEDDING_FILE, 'r',encoding=\"utf-8\"))\n",
    "all_embs = np.stack(embeddings_index.values())\n",
    "emb_mean,emb_std = all_embs.mean(), all_embs.std()\n",
    "emb_mean,emb_std"
   ]
  },
  {
   "cell_type": "code",
   "execution_count": 14,
   "metadata": {},
   "outputs": [],
   "source": [
    "word_index = tokenizer.word_index\n",
    "nb_words = min(max_features, len(word_index))\n",
    "embedding_matrix = np.random.normal(emb_mean, emb_std, (nb_words, embed_size))\n",
    "for word, i in word_index.items():\n",
    "    if i >= max_features: continue\n",
    "    embedding_vector = embeddings_index.get(word)\n",
    "    if embedding_vector is not None: embedding_matrix[i] = embedding_vector"
   ]
  },
  {
   "cell_type": "code",
   "execution_count": 15,
   "metadata": {},
   "outputs": [
    {
     "name": "stdout",
     "output_type": "stream",
     "text": [
      "WARNING:tensorflow:Layer lstm_1 will not use cuDNN kernel since it doesn't meet the cuDNN kernel criteria. It will use generic GPU kernel as fallback when running on GPU\n",
      "WARNING:tensorflow:Layer lstm_1 will not use cuDNN kernel since it doesn't meet the cuDNN kernel criteria. It will use generic GPU kernel as fallback when running on GPU\n",
      "WARNING:tensorflow:Layer lstm_1 will not use cuDNN kernel since it doesn't meet the cuDNN kernel criteria. It will use generic GPU kernel as fallback when running on GPU\n"
     ]
    }
   ],
   "source": [
    "## define the model\n",
    "inp = Input(shape=(maxlen,))\n",
    "x = Embedding(max_features, embed_size, weights=[embedding_matrix])(inp)\n",
    "x = Bidirectional(LSTM(50, return_sequences=True, dropout=0.1, recurrent_dropout=0.1))(x)\n",
    "x = GlobalMaxPool1D()(x)\n",
    "x = Dense(50, activation=\"relu\")(x)\n",
    "x = Dropout(0.1)(x)\n",
    "x = Dense(6, activation=\"sigmoid\")(x)\n",
    "model = Model(inputs=inp, outputs=x)\n",
    "model.compile(loss='binary_crossentropy', optimizer='adam', metrics=['accuracy'])"
   ]
  },
  {
   "cell_type": "code",
   "execution_count": 16,
   "metadata": {},
   "outputs": [
    {
     "name": "stdout",
     "output_type": "stream",
     "text": [
      "Model: \"functional_3\"\n",
      "_________________________________________________________________\n",
      "Layer (type)                 Output Shape              Param #   \n",
      "=================================================================\n",
      "input_2 (InputLayer)         [(None, 100)]             0         \n",
      "_________________________________________________________________\n",
      "embedding_1 (Embedding)      (None, 100, 50)           1000000   \n",
      "_________________________________________________________________\n",
      "bidirectional_1 (Bidirection (None, 100, 100)          40400     \n",
      "_________________________________________________________________\n",
      "global_max_pooling1d_1 (Glob (None, 100)               0         \n",
      "_________________________________________________________________\n",
      "dense_2 (Dense)              (None, 50)                5050      \n",
      "_________________________________________________________________\n",
      "dropout_1 (Dropout)          (None, 50)                0         \n",
      "_________________________________________________________________\n",
      "dense_3 (Dense)              (None, 6)                 306       \n",
      "=================================================================\n",
      "Total params: 1,045,756\n",
      "Trainable params: 1,045,756\n",
      "Non-trainable params: 0\n",
      "_________________________________________________________________\n"
     ]
    }
   ],
   "source": [
    "model.summary()"
   ]
  },
  {
   "cell_type": "code",
   "execution_count": 17,
   "metadata": {
    "scrolled": true
   },
   "outputs": [
    {
     "name": "stdout",
     "output_type": "stream",
     "text": [
      "Epoch 1/50\n",
      "72/72 [==============================] - ETA: 0s - loss: 0.4211 - accuracy: 0.8514\n",
      "Epoch 00001: val_loss improved from inf to 0.30716, saving model to C:\\Users\\admin\\Desktop\\capstone\\project\\lower_modelbest.hdf5\n",
      "72/72 [==============================] - 64s 893ms/step - loss: 0.4211 - accuracy: 0.8514 - val_loss: 0.3072 - val_accuracy: 0.9628\n",
      "Epoch 2/50\n",
      "72/72 [==============================] - ETA: 0s - loss: 0.2801 - accuracy: 0.9384\n",
      "Epoch 00002: val_loss improved from 0.30716 to 0.25061, saving model to C:\\Users\\admin\\Desktop\\capstone\\project\\lower_modelbest.hdf5\n",
      "72/72 [==============================] - 64s 883ms/step - loss: 0.2801 - accuracy: 0.9384 - val_loss: 0.2506 - val_accuracy: 0.9629\n",
      "Epoch 3/50\n",
      "72/72 [==============================] - ETA: 0s - loss: 0.2436 - accuracy: 0.9464\n",
      "Epoch 00003: val_loss improved from 0.25061 to 0.23875, saving model to C:\\Users\\admin\\Desktop\\capstone\\project\\lower_modelbest.hdf5\n",
      "72/72 [==============================] - 66s 919ms/step - loss: 0.2436 - accuracy: 0.9464 - val_loss: 0.2388 - val_accuracy: 0.9629\n",
      "Epoch 4/50\n",
      "72/72 [==============================] - ETA: 0s - loss: 0.2276 - accuracy: 0.9484\n",
      "Epoch 00004: val_loss improved from 0.23875 to 0.22851, saving model to C:\\Users\\admin\\Desktop\\capstone\\project\\lower_modelbest.hdf5\n",
      "72/72 [==============================] - 63s 875ms/step - loss: 0.2276 - accuracy: 0.9484 - val_loss: 0.2285 - val_accuracy: 0.9629\n",
      "Epoch 5/50\n",
      "72/72 [==============================] - ETA: 0s - loss: 0.2172 - accuracy: 0.9464\n",
      "Epoch 00005: val_loss improved from 0.22851 to 0.22206, saving model to C:\\Users\\admin\\Desktop\\capstone\\project\\lower_modelbest.hdf5\n",
      "72/72 [==============================] - 63s 880ms/step - loss: 0.2172 - accuracy: 0.9464 - val_loss: 0.2221 - val_accuracy: 0.9629\n",
      "Epoch 6/50\n",
      "72/72 [==============================] - ETA: 0s - loss: 0.2070 - accuracy: 0.9500\n",
      "Epoch 00006: val_loss improved from 0.22206 to 0.21879, saving model to C:\\Users\\admin\\Desktop\\capstone\\project\\lower_modelbest.hdf5\n",
      "72/72 [==============================] - 63s 870ms/step - loss: 0.2070 - accuracy: 0.9500 - val_loss: 0.2188 - val_accuracy: 0.9619\n",
      "Epoch 7/50\n",
      "72/72 [==============================] - ETA: 0s - loss: 0.1987 - accuracy: 0.9473\n",
      "Epoch 00007: val_loss did not improve from 0.21879\n",
      "72/72 [==============================] - 63s 877ms/step - loss: 0.1987 - accuracy: 0.9473 - val_loss: 0.2220 - val_accuracy: 0.9601\n",
      "Epoch 8/50\n",
      "72/72 [==============================] - ETA: 0s - loss: 0.1949 - accuracy: 0.9483\n",
      "Epoch 00008: val_loss improved from 0.21879 to 0.21025, saving model to C:\\Users\\admin\\Desktop\\capstone\\project\\lower_modelbest.hdf5\n",
      "72/72 [==============================] - 63s 880ms/step - loss: 0.1949 - accuracy: 0.9483 - val_loss: 0.2102 - val_accuracy: 0.9614\n",
      "Epoch 9/50\n",
      "72/72 [==============================] - ETA: 0s - loss: 0.1842 - accuracy: 0.9437\n",
      "Epoch 00009: val_loss improved from 0.21025 to 0.20805, saving model to C:\\Users\\admin\\Desktop\\capstone\\project\\lower_modelbest.hdf5\n",
      "72/72 [==============================] - 63s 877ms/step - loss: 0.1842 - accuracy: 0.9437 - val_loss: 0.2081 - val_accuracy: 0.9617\n",
      "Epoch 10/50\n",
      "72/72 [==============================] - ETA: 0s - loss: 0.1796 - accuracy: 0.9472\n",
      "Epoch 00010: val_loss improved from 0.20805 to 0.20757, saving model to C:\\Users\\admin\\Desktop\\capstone\\project\\lower_modelbest.hdf5\n",
      "72/72 [==============================] - 65s 906ms/step - loss: 0.1796 - accuracy: 0.9472 - val_loss: 0.2076 - val_accuracy: 0.9560\n",
      "Epoch 11/50\n",
      "72/72 [==============================] - ETA: 0s - loss: 0.1737 - accuracy: 0.9485\n",
      "Epoch 00011: val_loss did not improve from 0.20757\n",
      "72/72 [==============================] - 63s 873ms/step - loss: 0.1737 - accuracy: 0.9485 - val_loss: 0.2121 - val_accuracy: 0.9523\n",
      "Epoch 12/50\n",
      "72/72 [==============================] - ETA: 0s - loss: 0.1722 - accuracy: 0.9448\n",
      "Epoch 00012: val_loss improved from 0.20757 to 0.20722, saving model to C:\\Users\\admin\\Desktop\\capstone\\project\\lower_modelbest.hdf5\n",
      "72/72 [==============================] - 63s 879ms/step - loss: 0.1722 - accuracy: 0.9448 - val_loss: 0.2072 - val_accuracy: 0.9479\n",
      "Epoch 13/50\n",
      "72/72 [==============================] - ETA: 0s - loss: 0.1633 - accuracy: 0.9269\n",
      "Epoch 00013: val_loss did not improve from 0.20722\n",
      "72/72 [==============================] - 64s 883ms/step - loss: 0.1633 - accuracy: 0.9269 - val_loss: 0.2087 - val_accuracy: 0.9531\n",
      "Epoch 14/50\n",
      "72/72 [==============================] - ETA: 0s - loss: 0.1573 - accuracy: 0.9392\n",
      "Epoch 00014: val_loss did not improve from 0.20722\n",
      "72/72 [==============================] - 64s 883ms/step - loss: 0.1573 - accuracy: 0.9392 - val_loss: 0.2095 - val_accuracy: 0.9549\n",
      "Epoch 15/50\n",
      "72/72 [==============================] - ETA: 0s - loss: 0.1515 - accuracy: 0.9287\n",
      "Epoch 00015: val_loss did not improve from 0.20722\n",
      "72/72 [==============================] - 63s 875ms/step - loss: 0.1515 - accuracy: 0.9287 - val_loss: 0.2136 - val_accuracy: 0.9498\n",
      "Epoch 16/50\n",
      "72/72 [==============================] - ETA: 0s - loss: 0.1464 - accuracy: 0.9281\n",
      "Epoch 00016: val_loss did not improve from 0.20722\n",
      "72/72 [==============================] - 63s 881ms/step - loss: 0.1464 - accuracy: 0.9281 - val_loss: 0.2097 - val_accuracy: 0.9558\n",
      "Epoch 17/50\n",
      "72/72 [==============================] - ETA: 0s - loss: 0.1449 - accuracy: 0.9264\n",
      "Epoch 00017: val_loss did not improve from 0.20722\n",
      "72/72 [==============================] - 63s 875ms/step - loss: 0.1449 - accuracy: 0.9264 - val_loss: 0.2099 - val_accuracy: 0.9548\n",
      "Epoch 00017: early stopping\n"
     ]
    },
    {
     "data": {
      "image/png": "[encoded data removed]",
      "text/plain": [
       "<Figure size 432x288 with 1 Axes>"
      ]
     },
     "metadata": {
      "needs_background": "light"
     },
     "output_type": "display_data"
    },
    {
     "data": {
      "image/png": "[encoded data removed]",
      "text/plain": [
       "<Figure size 432x288 with 1 Axes>"
      ]
     },
     "metadata": {
      "needs_background": "light"
     },
     "output_type": "display_data"
    }
   ],
   "source": [
    "## set the check point to save the best model\n",
    "checkpoint = ModelCheckpoint(filepath='C:\\\\Users\\\\admin\\\\Desktop\\\\capstone\\\\project\\\\lower_modelbest.hdf5',\n",
    "                             verbose=1,\n",
    "                             save_best_only=True,\n",
    "                             monitor='val_loss',\n",
    "                             mode='auto')\n",
    "## set the early stop if the val_loss didn't improve\n",
    "earlystopping = EarlyStopping(monitor='val_loss', \n",
    "                              patience=5, \n",
    "                              verbose=1, \n",
    "                              mode='auto')\n",
    "## reduce the learning rate if the val_loss didn't improve\n",
    "ReduceL = ReduceLROnPlateau(monitor='val_loss',\n",
    "                      factor=0.1, \n",
    "                      patience=3, \n",
    "                      verbose=0, \n",
    "                      mode='auto')\n",
    "\n",
    "## train the model\n",
    "history = model.fit(X_t, y,\n",
    "          batch_size=256, \n",
    "          epochs=50, \n",
    "          validation_split=0.3,\n",
    "          callbacks=[earlystopping, checkpoint, ReduceL])\n",
    "\n",
    "# summarize history for accuracy\n",
    "plt.plot(history.history['accuracy'])\n",
    "plt.plot(history.history['val_accuracy'])\n",
    "plt.title('model accuracy')\n",
    "plt.ylabel('accuracy')\n",
    "plt.xlabel('epoch')\n",
    "plt.legend(['train', 'test'], loc='upper left') \n",
    "plt.show()\n",
    "# summarize history for loss \n",
    "plt.plot(history.history['loss']) \n",
    "plt.plot(history.history['val_loss']) \n",
    "plt.title('model loss')\n",
    "plt.ylabel('loss')\n",
    "plt.xlabel('epoch')\n",
    "plt.legend(['train', 'test'], loc='upper left') \n",
    "plt.show()"
   ]
  },
  {
   "cell_type": "markdown",
   "metadata": {},
   "source": [
    "##### The accuracy of train hovering around 95.5% and test (validation) hovering around 92%. The loss also has the same problem. Which shows that lower the clean data is not a good method in this case. "
   ]
  },
  {
   "cell_type": "code",
   "execution_count": 18,
   "metadata": {},
   "outputs": [
    {
     "name": "stdout",
     "output_type": "stream",
     "text": [
      "WARNING:tensorflow:Layer lstm_1 will not use cuDNN kernel since it doesn't meet the cuDNN kernel criteria. It will use generic GPU kernel as fallback when running on GPU\n",
      "WARNING:tensorflow:Layer lstm_1 will not use cuDNN kernel since it doesn't meet the cuDNN kernel criteria. It will use generic GPU kernel as fallback when running on GPU\n",
      "WARNING:tensorflow:Layer lstm_1 will not use cuDNN kernel since it doesn't meet the cuDNN kernel criteria. It will use generic GPU kernel as fallback when running on GPU\n",
      "63/63 [==============================] - 5s 79ms/step\n",
      "accuracy: 0.9474116102410204\n"
     ]
    }
   ],
   "source": [
    "## load best model\n",
    "model = keras.models.load_model('lower_modelbest.hdf5')\n",
    "## address test\n",
    "list_sentences_test = test[\"comment_text\"].fillna(\"_na_\").values\n",
    "list_tokenized_test = tokenizer.texts_to_sequences(list_sentences_test)\n",
    "y = pad_sequences(list_tokenized_test, maxlen=maxlen)\n",
    "## predict\n",
    "y_pred = model.predict(y, batch_size=1024, verbose=1)\n",
    "## caculate the accuracy\n",
    "y_pred[y_pred>=0.5] = 1\n",
    "y_pred[y_pred<0.5] = 0 \n",
    "y_true = test[list_classes].values\n",
    "total = 0\n",
    "acc = 0\n",
    "for i in range(len(y_true)):\n",
    "    for j in range(len(y_true[0])):\n",
    "        if y_true[i][j] != -1:\n",
    "            if y_true[i][j] == y_pred[i][j]:\n",
    "                acc +=1\n",
    "            total += 1\n",
    "print('accuracy:', acc/total)"
   ]
  },
  {
   "cell_type": "markdown",
   "metadata": {},
   "source": [
    "#### upsample and downsample"
   ]
  },
  {
   "cell_type": "code",
   "execution_count": 19,
   "metadata": {},
   "outputs": [],
   "source": [
    "list_sentences_train = train_up_down[\"comment_text\"].fillna(\"_na_\").values\n",
    "list_classes = [\"toxic\", \"severe_toxic\", \"obscene\", \"threat\", \"insult\", \"identity_hate\"]\n",
    "y = train_up_down[list_classes].values\n",
    "list_sentences_test = test[\"comment_text\"].fillna(\"_na_\").values"
   ]
  },
  {
   "cell_type": "code",
   "execution_count": 20,
   "metadata": {},
   "outputs": [],
   "source": [
    "tokenizer = Tokenizer(num_words=max_features)\n",
    "tokenizer.fit_on_texts(list(list_sentences_train))\n",
    "list_tokenized_train = tokenizer.texts_to_sequences(list_sentences_train)\n",
    "list_tokenized_test = tokenizer.texts_to_sequences(list_sentences_test)\n",
    "X_t = pad_sequences(list_tokenized_train, maxlen=maxlen)\n",
    "X_te = pad_sequences(list_tokenized_test, maxlen=maxlen)"
   ]
  },
  {
   "cell_type": "code",
   "execution_count": 21,
   "metadata": {},
   "outputs": [
    {
     "data": {
      "text/plain": [
       "(0.020940498, 0.6441043)"
      ]
     },
     "execution_count": 21,
     "metadata": {},
     "output_type": "execute_result"
    }
   ],
   "source": [
    "def get_coefs(word,*arr): \n",
    "    return word, np.asarray(arr, dtype='float32')\n",
    "embeddings_index = dict(get_coefs(*o.strip().split()) for o in open(EMBEDDING_FILE, 'r',encoding=\"utf-8\"))\n",
    "all_embs = np.stack(embeddings_index.values())\n",
    "emb_mean,emb_std = all_embs.mean(), all_embs.std()\n",
    "emb_mean,emb_std"
   ]
  },
  {
   "cell_type": "code",
   "execution_count": 22,
   "metadata": {},
   "outputs": [],
   "source": [
    "word_index = tokenizer.word_index\n",
    "nb_words = min(max_features, len(word_index))\n",
    "embedding_matrix = np.random.normal(emb_mean, emb_std, (nb_words, embed_size))\n",
    "for word, i in word_index.items():\n",
    "    if i >= max_features: continue\n",
    "    embedding_vector = embeddings_index.get(word)\n",
    "    if embedding_vector is not None: embedding_matrix[i] = embedding_vector"
   ]
  },
  {
   "cell_type": "code",
   "execution_count": 23,
   "metadata": {},
   "outputs": [
    {
     "name": "stdout",
     "output_type": "stream",
     "text": [
      "WARNING:tensorflow:Layer lstm_2 will not use cuDNN kernel since it doesn't meet the cuDNN kernel criteria. It will use generic GPU kernel as fallback when running on GPU\n",
      "WARNING:tensorflow:Layer lstm_2 will not use cuDNN kernel since it doesn't meet the cuDNN kernel criteria. It will use generic GPU kernel as fallback when running on GPU\n",
      "WARNING:tensorflow:Layer lstm_2 will not use cuDNN kernel since it doesn't meet the cuDNN kernel criteria. It will use generic GPU kernel as fallback when running on GPU\n",
      "Model: \"functional_5\"\n",
      "_________________________________________________________________\n",
      "Layer (type)                 Output Shape              Param #   \n",
      "=================================================================\n",
      "input_3 (InputLayer)         [(None, 100)]             0         \n",
      "_________________________________________________________________\n",
      "embedding_2 (Embedding)      (None, 100, 50)           1000000   \n",
      "_________________________________________________________________\n",
      "bidirectional_2 (Bidirection (None, 100, 100)          40400     \n",
      "_________________________________________________________________\n",
      "global_max_pooling1d_2 (Glob (None, 100)               0         \n",
      "_________________________________________________________________\n",
      "dense_4 (Dense)              (None, 50)                5050      \n",
      "_________________________________________________________________\n",
      "dropout_2 (Dropout)          (None, 50)                0         \n",
      "_________________________________________________________________\n",
      "dense_5 (Dense)              (None, 6)                 306       \n",
      "=================================================================\n",
      "Total params: 1,045,756\n",
      "Trainable params: 1,045,756\n",
      "Non-trainable params: 0\n",
      "_________________________________________________________________\n"
     ]
    }
   ],
   "source": [
    "## define the model\n",
    "inp = Input(shape=(maxlen,))\n",
    "x = Embedding(max_features, embed_size, weights=[embedding_matrix])(inp)\n",
    "x = Bidirectional(LSTM(50, return_sequences=True, dropout=0.1, recurrent_dropout=0.1))(x)\n",
    "x = GlobalMaxPool1D()(x)\n",
    "x = Dense(50, activation=\"relu\")(x)\n",
    "x = Dropout(0.1)(x)\n",
    "x = Dense(6, activation=\"sigmoid\")(x)\n",
    "model = Model(inputs=inp, outputs=x)\n",
    "model.compile(loss='binary_crossentropy', optimizer='adam', metrics=['accuracy'])\n",
    "model.summary()"
   ]
  },
  {
   "cell_type": "code",
   "execution_count": 24,
   "metadata": {},
   "outputs": [
    {
     "name": "stdout",
     "output_type": "stream",
     "text": [
      "Epoch 1/50\n",
      "96/96 [==============================] - ETA: 0s - loss: 0.4499 - accuracy: 0.7467\n",
      "Epoch 00001: val_loss improved from inf to 0.19600, saving model to C:\\Users\\admin\\Desktop\\capstone\\project\\up_down_modelbest.hdf5\n",
      "96/96 [==============================] - 88s 919ms/step - loss: 0.4499 - accuracy: 0.7467 - val_loss: 0.1960 - val_accuracy: 0.8790\n",
      "Epoch 2/50\n",
      "96/96 [==============================] - ETA: 0s - loss: 0.3118 - accuracy: 0.8520\n",
      "Epoch 00002: val_loss improved from 0.19600 to 0.12609, saving model to C:\\Users\\admin\\Desktop\\capstone\\project\\up_down_modelbest.hdf5\n",
      "96/96 [==============================] - 91s 949ms/step - loss: 0.3118 - accuracy: 0.8520 - val_loss: 0.1261 - val_accuracy: 0.8155\n",
      "Epoch 3/50\n",
      "96/96 [==============================] - ETA: 0s - loss: 0.2546 - accuracy: 0.8966\n",
      "Epoch 00003: val_loss improved from 0.12609 to 0.10429, saving model to C:\\Users\\admin\\Desktop\\capstone\\project\\up_down_modelbest.hdf5\n",
      "96/96 [==============================] - 83s 860ms/step - loss: 0.2546 - accuracy: 0.8966 - val_loss: 0.1043 - val_accuracy: 0.8632\n",
      "Epoch 4/50\n",
      "96/96 [==============================] - ETA: 0s - loss: 0.2286 - accuracy: 0.9199\n",
      "Epoch 00004: val_loss improved from 0.10429 to 0.08490, saving model to C:\\Users\\admin\\Desktop\\capstone\\project\\up_down_modelbest.hdf5\n",
      "96/96 [==============================] - 83s 863ms/step - loss: 0.2286 - accuracy: 0.9199 - val_loss: 0.0849 - val_accuracy: 0.8924\n",
      "Epoch 5/50\n",
      "96/96 [==============================] - ETA: 0s - loss: 0.2129 - accuracy: 0.9205\n",
      "Epoch 00005: val_loss did not improve from 0.08490\n",
      "96/96 [==============================] - 88s 914ms/step - loss: 0.2129 - accuracy: 0.9205 - val_loss: 0.1018 - val_accuracy: 0.9620\n",
      "Epoch 6/50\n",
      "96/96 [==============================] - ETA: 0s - loss: 0.2024 - accuracy: 0.9201\n",
      "Epoch 00006: val_loss did not improve from 0.08490\n",
      "96/96 [==============================] - 84s 880ms/step - loss: 0.2024 - accuracy: 0.9201 - val_loss: 0.0870 - val_accuracy: 0.9109\n",
      "Epoch 7/50\n",
      "96/96 [==============================] - ETA: 0s - loss: 0.1926 - accuracy: 0.9190\n",
      "Epoch 00007: val_loss improved from 0.08490 to 0.06712, saving model to C:\\Users\\admin\\Desktop\\capstone\\project\\up_down_modelbest.hdf5\n",
      "96/96 [==============================] - 84s 880ms/step - loss: 0.1926 - accuracy: 0.9190 - val_loss: 0.0671 - val_accuracy: 0.9011\n",
      "Epoch 8/50\n",
      "96/96 [==============================] - ETA: 0s - loss: 0.1844 - accuracy: 0.9185\n",
      "Epoch 00008: val_loss improved from 0.06712 to 0.06467, saving model to C:\\Users\\admin\\Desktop\\capstone\\project\\up_down_modelbest.hdf5\n",
      "96/96 [==============================] - 85s 883ms/step - loss: 0.1844 - accuracy: 0.9185 - val_loss: 0.0647 - val_accuracy: 0.8409\n",
      "Epoch 9/50\n",
      "96/96 [==============================] - ETA: 0s - loss: 0.1785 - accuracy: 0.9137\n",
      "Epoch 00009: val_loss did not improve from 0.06467\n",
      "96/96 [==============================] - 86s 892ms/step - loss: 0.1785 - accuracy: 0.9137 - val_loss: 0.0687 - val_accuracy: 0.8347\n",
      "Epoch 10/50\n",
      "96/96 [==============================] - ETA: 0s - loss: 0.1726 - accuracy: 0.9058\n",
      "Epoch 00010: val_loss improved from 0.06467 to 0.05988, saving model to C:\\Users\\admin\\Desktop\\capstone\\project\\up_down_modelbest.hdf5\n",
      "96/96 [==============================] - 85s 883ms/step - loss: 0.1726 - accuracy: 0.9058 - val_loss: 0.0599 - val_accuracy: 0.8628\n",
      "Epoch 11/50\n",
      "96/96 [==============================] - ETA: 0s - loss: 0.1679 - accuracy: 0.9045\n",
      "Epoch 00011: val_loss did not improve from 0.05988\n",
      "96/96 [==============================] - 87s 903ms/step - loss: 0.1679 - accuracy: 0.9045 - val_loss: 0.0644 - val_accuracy: 0.7507\n",
      "Epoch 12/50\n",
      "96/96 [==============================] - ETA: 0s - loss: 0.1626 - accuracy: 0.8895\n",
      "Epoch 00012: val_loss did not improve from 0.05988\n",
      "96/96 [==============================] - 85s 890ms/step - loss: 0.1626 - accuracy: 0.8895 - val_loss: 0.0739 - val_accuracy: 0.7666\n",
      "Epoch 13/50\n",
      "96/96 [==============================] - ETA: 0s - loss: 0.1577 - accuracy: 0.8872\n",
      "Epoch 00013: val_loss did not improve from 0.05988\n",
      "96/96 [==============================] - 85s 889ms/step - loss: 0.1577 - accuracy: 0.8872 - val_loss: 0.0680 - val_accuracy: 0.6985\n",
      "Epoch 14/50\n",
      "96/96 [==============================] - ETA: 0s - loss: 0.1509 - accuracy: 0.8750\n",
      "Epoch 00014: val_loss did not improve from 0.05988\n",
      "96/96 [==============================] - 85s 887ms/step - loss: 0.1509 - accuracy: 0.8750 - val_loss: 0.0687 - val_accuracy: 0.6826\n",
      "Epoch 15/50\n",
      "96/96 [==============================] - ETA: 0s - loss: 0.1501 - accuracy: 0.8728\n",
      "Epoch 00015: val_loss did not improve from 0.05988\n",
      "96/96 [==============================] - 85s 888ms/step - loss: 0.1501 - accuracy: 0.8728 - val_loss: 0.0757 - val_accuracy: 0.6849\n",
      "Epoch 00015: early stopping\n"
     ]
    },
    {
     "data": {
      "image/png": "[encoded data removed]",
      "text/plain": [
       "<Figure size 432x288 with 1 Axes>"
      ]
     },
     "metadata": {
      "needs_background": "light"
     },
     "output_type": "display_data"
    },
    {
     "data": {
      "image/png": "[encoded data removed]",
      "text/plain": [
       "<Figure size 432x288 with 1 Axes>"
      ]
     },
     "metadata": {
      "needs_background": "light"
     },
     "output_type": "display_data"
    }
   ],
   "source": [
    "## set the check point to save the best model\n",
    "checkpoint = ModelCheckpoint(filepath='C:\\\\Users\\\\admin\\\\Desktop\\\\capstone\\\\project\\\\up_down_modelbest.hdf5',\n",
    "                             verbose=1,\n",
    "                             save_best_only=True,\n",
    "                             monitor='val_loss',\n",
    "                             mode='auto')\n",
    "\n",
    "## set the early stop if the val_loss didn't improve\n",
    "earlystopping = EarlyStopping(monitor='val_loss', \n",
    "                              patience=5, \n",
    "                              verbose=1, \n",
    "                              mode='auto')\n",
    "## reducr the learning rate if the val_loss didn't improve\n",
    "ReduceL = ReduceLROnPlateau(monitor='val_loss',\n",
    "                      factor=0.1, \n",
    "                      patience=3, \n",
    "                      verbose=0, \n",
    "                      mode='auto')\n",
    "\n",
    "## train the model\n",
    "history = model.fit(X_t, y,\n",
    "          batch_size=256, \n",
    "          epochs=50, \n",
    "          validation_split=0.3,\n",
    "          callbacks=[earlystopping, checkpoint, ReduceL])\n",
    "\n",
    "# summarize history for accuracy\n",
    "plt.plot(history.history['accuracy'])\n",
    "plt.plot(history.history['val_accuracy'])\n",
    "plt.title('model accuracy')\n",
    "plt.ylabel('accuracy')\n",
    "plt.xlabel('epoch')\n",
    "plt.legend(['train', 'test'], loc='upper left') \n",
    "plt.show()\n",
    "# summarize history for loss \n",
    "plt.plot(history.history['loss']) \n",
    "plt.plot(history.history['val_loss']) \n",
    "plt.title('model loss')\n",
    "plt.ylabel('loss')\n",
    "plt.xlabel('epoch')\n",
    "plt.legend(['train', 'test'], loc='upper left') \n",
    "plt.show()"
   ]
  },
  {
   "cell_type": "markdown",
   "metadata": {},
   "source": [
    "##### The accuracy of train and test (validation) improve to around 92.5% to 95%. The loss improves to epoch 16 and stop. Compared to the method of lower the clean data, Downsample and upsample perform better but the original data still perform well. "
   ]
  },
  {
   "cell_type": "code",
   "execution_count": 25,
   "metadata": {},
   "outputs": [
    {
     "name": "stdout",
     "output_type": "stream",
     "text": [
      "WARNING:tensorflow:Layer lstm_2 will not use cuDNN kernel since it doesn't meet the cuDNN kernel criteria. It will use generic GPU kernel as fallback when running on GPU\n",
      "WARNING:tensorflow:Layer lstm_2 will not use cuDNN kernel since it doesn't meet the cuDNN kernel criteria. It will use generic GPU kernel as fallback when running on GPU\n",
      "WARNING:tensorflow:Layer lstm_2 will not use cuDNN kernel since it doesn't meet the cuDNN kernel criteria. It will use generic GPU kernel as fallback when running on GPU\n",
      "63/63 [==============================] - 5s 79ms/step\n",
      "accuracy: 0.9442256192232746\n"
     ]
    }
   ],
   "source": [
    "## load best model\n",
    "model = keras.models.load_model('up_down_modelbest.hdf5')\n",
    "## address test\n",
    "list_sentences_test = test[\"comment_text\"].fillna(\"_na_\").values\n",
    "list_tokenized_test = tokenizer.texts_to_sequences(list_sentences_test)\n",
    "y = pad_sequences(list_tokenized_test, maxlen=maxlen)\n",
    "## predict\n",
    "y_pred = model.predict(y, batch_size=1024, verbose=1)\n",
    "## caculate the accuracy\n",
    "y_pred[y_pred>=0.5] = 1\n",
    "y_pred[y_pred<0.5] = 0 \n",
    "y_true = test[list_classes].values\n",
    "total = 0\n",
    "acc = 0\n",
    "for i in range(len(y_true)):\n",
    "    for j in range(len(y_true[0])):\n",
    "        if y_true[i][j] != -1:\n",
    "            if y_true[i][j] == y_pred[i][j]:\n",
    "                acc +=1\n",
    "            total += 1\n",
    "print('accuracy:', acc/total)"
   ]
  },
  {
   "cell_type": "markdown",
   "metadata": {},
   "source": [
    "#### augment data"
   ]
  },
  {
   "cell_type": "code",
   "execution_count": 26,
   "metadata": {},
   "outputs": [],
   "source": [
    "list_sentences_train = train_aug[\"comment_text\"].fillna(\"_na_\").values\n",
    "list_classes = [\"toxic\", \"severe_toxic\", \"obscene\", \"threat\", \"insult\", \"identity_hate\"]\n",
    "y = train_aug[list_classes].values\n",
    "list_sentences_test = test[\"comment_text\"].fillna(\"_na_\").values"
   ]
  },
  {
   "cell_type": "code",
   "execution_count": 27,
   "metadata": {},
   "outputs": [],
   "source": [
    "tokenizer = Tokenizer(num_words=max_features)\n",
    "tokenizer.fit_on_texts(list(list_sentences_train))\n",
    "list_tokenized_train = tokenizer.texts_to_sequences(list_sentences_train)\n",
    "list_tokenized_test = tokenizer.texts_to_sequences(list_sentences_test)\n",
    "X_t = pad_sequences(list_tokenized_train, maxlen=maxlen)\n",
    "X_te = pad_sequences(list_tokenized_test, maxlen=maxlen)"
   ]
  },
  {
   "cell_type": "code",
   "execution_count": 28,
   "metadata": {},
   "outputs": [
    {
     "data": {
      "text/plain": [
       "(0.020940498, 0.6441043)"
      ]
     },
     "execution_count": 28,
     "metadata": {},
     "output_type": "execute_result"
    }
   ],
   "source": [
    "def get_coefs(word,*arr): \n",
    "    return word, np.asarray(arr, dtype='float32')\n",
    "embeddings_index = dict(get_coefs(*o.strip().split()) for o in open(EMBEDDING_FILE, 'r',encoding=\"utf-8\"))\n",
    "all_embs = np.stack(embeddings_index.values())\n",
    "emb_mean,emb_std = all_embs.mean(), all_embs.std()\n",
    "emb_mean,emb_std"
   ]
  },
  {
   "cell_type": "code",
   "execution_count": 29,
   "metadata": {},
   "outputs": [],
   "source": [
    "word_index = tokenizer.word_index\n",
    "nb_words = min(max_features, len(word_index))\n",
    "embedding_matrix = np.random.normal(emb_mean, emb_std, (nb_words, embed_size))\n",
    "for word, i in word_index.items():\n",
    "    if i >= max_features: continue\n",
    "    embedding_vector = embeddings_index.get(word)\n",
    "    if embedding_vector is not None: embedding_matrix[i] = embedding_vector"
   ]
  },
  {
   "cell_type": "code",
   "execution_count": 30,
   "metadata": {},
   "outputs": [
    {
     "name": "stdout",
     "output_type": "stream",
     "text": [
      "WARNING:tensorflow:Layer lstm_3 will not use cuDNN kernel since it doesn't meet the cuDNN kernel criteria. It will use generic GPU kernel as fallback when running on GPU\n",
      "WARNING:tensorflow:Layer lstm_3 will not use cuDNN kernel since it doesn't meet the cuDNN kernel criteria. It will use generic GPU kernel as fallback when running on GPU\n",
      "WARNING:tensorflow:Layer lstm_3 will not use cuDNN kernel since it doesn't meet the cuDNN kernel criteria. It will use generic GPU kernel as fallback when running on GPU\n",
      "Model: \"functional_7\"\n",
      "_________________________________________________________________\n",
      "Layer (type)                 Output Shape              Param #   \n",
      "=================================================================\n",
      "input_4 (InputLayer)         [(None, 100)]             0         \n",
      "_________________________________________________________________\n",
      "embedding_3 (Embedding)      (None, 100, 50)           1000000   \n",
      "_________________________________________________________________\n",
      "bidirectional_3 (Bidirection (None, 100, 100)          40400     \n",
      "_________________________________________________________________\n",
      "global_max_pooling1d_3 (Glob (None, 100)               0         \n",
      "_________________________________________________________________\n",
      "dense_6 (Dense)              (None, 50)                5050      \n",
      "_________________________________________________________________\n",
      "dropout_3 (Dropout)          (None, 50)                0         \n",
      "_________________________________________________________________\n",
      "dense_7 (Dense)              (None, 6)                 306       \n",
      "=================================================================\n",
      "Total params: 1,045,756\n",
      "Trainable params: 1,045,756\n",
      "Non-trainable params: 0\n",
      "_________________________________________________________________\n"
     ]
    }
   ],
   "source": [
    "## define the model\n",
    "inp = Input(shape=(maxlen,))\n",
    "x = Embedding(max_features, embed_size, weights=[embedding_matrix])(inp)\n",
    "x = Bidirectional(LSTM(50, return_sequences=True, dropout=0.1, recurrent_dropout=0.1))(x)\n",
    "x = GlobalMaxPool1D()(x)\n",
    "x = Dense(50, activation=\"relu\")(x)\n",
    "x = Dropout(0.1)(x)\n",
    "x = Dense(6, activation=\"sigmoid\")(x)\n",
    "model = Model(inputs=inp, outputs=x)\n",
    "model.compile(loss='binary_crossentropy', optimizer='adam', metrics=['accuracy'])\n",
    "model.summary()"
   ]
  },
  {
   "cell_type": "code",
   "execution_count": 31,
   "metadata": {
    "scrolled": true
   },
   "outputs": [
    {
     "name": "stdout",
     "output_type": "stream",
     "text": [
      "Epoch 1/50\n",
      "448/448 [==============================] - ETA: 0s - loss: 0.0947 - accuracy: 0.8301\n",
      "Epoch 00001: val_loss improved from inf to 0.13918, saving model to C:\\Users\\admin\\Desktop\\capstone\\project\\aug_modelbest.hdf5\n",
      "448/448 [==============================] - 429s 958ms/step - loss: 0.0947 - accuracy: 0.8301 - val_loss: 0.1392 - val_accuracy: 0.9099\n",
      "Epoch 2/50\n",
      "448/448 [==============================] - ETA: 0s - loss: 0.0516 - accuracy: 0.9317\n",
      "Epoch 00002: val_loss did not improve from 0.13918\n",
      "448/448 [==============================] - 452s 1s/step - loss: 0.0516 - accuracy: 0.9317 - val_loss: 0.1400 - val_accuracy: 0.9099\n",
      "Epoch 3/50\n",
      "448/448 [==============================] - ETA: 0s - loss: 0.0469 - accuracy: 0.9418\n",
      "Epoch 00003: val_loss improved from 0.13918 to 0.12230, saving model to C:\\Users\\admin\\Desktop\\capstone\\project\\aug_modelbest.hdf5\n",
      "448/448 [==============================] - 422s 941ms/step - loss: 0.0469 - accuracy: 0.9418 - val_loss: 0.1223 - val_accuracy: 0.9095\n",
      "Epoch 4/50\n",
      "448/448 [==============================] - ETA: 0s - loss: 0.0437 - accuracy: 0.9569\n",
      "Epoch 00004: val_loss did not improve from 0.12230\n",
      "448/448 [==============================] - 403s 900ms/step - loss: 0.0437 - accuracy: 0.9569 - val_loss: 0.1360 - val_accuracy: 0.9094\n",
      "Epoch 5/50\n",
      "448/448 [==============================] - ETA: 0s - loss: 0.0408 - accuracy: 0.9581\n",
      "Epoch 00005: val_loss improved from 0.12230 to 0.12221, saving model to C:\\Users\\admin\\Desktop\\capstone\\project\\aug_modelbest.hdf5\n",
      "448/448 [==============================] - 403s 901ms/step - loss: 0.0408 - accuracy: 0.9581 - val_loss: 0.1222 - val_accuracy: 0.9084\n",
      "Epoch 6/50\n",
      "448/448 [==============================] - ETA: 0s - loss: 0.0383 - accuracy: 0.9538\n",
      "Epoch 00006: val_loss improved from 0.12221 to 0.12133, saving model to C:\\Users\\admin\\Desktop\\capstone\\project\\aug_modelbest.hdf5\n",
      "448/448 [==============================] - 409s 914ms/step - loss: 0.0383 - accuracy: 0.9538 - val_loss: 0.1213 - val_accuracy: 0.9081\n",
      "Epoch 7/50\n",
      "448/448 [==============================] - ETA: 0s - loss: 0.0363 - accuracy: 0.9476\n",
      "Epoch 00007: val_loss did not improve from 0.12133\n",
      "448/448 [==============================] - 409s 912ms/step - loss: 0.0363 - accuracy: 0.9476 - val_loss: 0.1291 - val_accuracy: 0.9098\n",
      "Epoch 8/50\n",
      "448/448 [==============================] - ETA: 0s - loss: 0.0345 - accuracy: 0.9628\n",
      "Epoch 00008: val_loss did not improve from 0.12133\n",
      "448/448 [==============================] - 401s 896ms/step - loss: 0.0345 - accuracy: 0.9628 - val_loss: 0.1327 - val_accuracy: 0.9073\n",
      "Epoch 9/50\n",
      "448/448 [==============================] - ETA: 0s - loss: 0.0326 - accuracy: 0.9621\n",
      "Epoch 00009: val_loss did not improve from 0.12133\n",
      "448/448 [==============================] - 408s 911ms/step - loss: 0.0326 - accuracy: 0.9621 - val_loss: 0.1363 - val_accuracy: 0.9099\n",
      "Epoch 10/50\n",
      "448/448 [==============================] - ETA: 0s - loss: 0.0300 - accuracy: 0.9782\n",
      "Epoch 00010: val_loss did not improve from 0.12133\n",
      "448/448 [==============================] - 403s 899ms/step - loss: 0.0300 - accuracy: 0.9782 - val_loss: 0.1338 - val_accuracy: 0.9086\n",
      "Epoch 11/50\n",
      "448/448 [==============================] - ETA: 0s - loss: 0.0296 - accuracy: 0.9659\n",
      "Epoch 00011: val_loss did not improve from 0.12133\n",
      "448/448 [==============================] - 400s 893ms/step - loss: 0.0296 - accuracy: 0.9659 - val_loss: 0.1351 - val_accuracy: 0.9083\n",
      "Epoch 00011: early stopping\n"
     ]
    },
    {
     "data": {
      "image/png": "[encoded data removed]",
      "text/plain": [
       "<Figure size 432x288 with 1 Axes>"
      ]
     },
     "metadata": {
      "needs_background": "light"
     },
     "output_type": "display_data"
    },
    {
     "data": {
      "image/png": "[encoded data removed]",
      "text/plain": [
       "<Figure size 432x288 with 1 Axes>"
      ]
     },
     "metadata": {
      "needs_background": "light"
     },
     "output_type": "display_data"
    }
   ],
   "source": [
    "## set the check point to save the best model\n",
    "checkpoint = ModelCheckpoint(filepath='C:\\\\Users\\\\admin\\\\Desktop\\\\capstone\\\\project\\\\aug_modelbest.hdf5',\n",
    "                             verbose=1,\n",
    "                             save_best_only=True,\n",
    "                             monitor='val_loss',\n",
    "                             mode='auto')\n",
    "\n",
    "## set the early stop if the model didn't improve\n",
    "earlystopping = EarlyStopping(monitor='val_loss', \n",
    "                              patience=5, \n",
    "                              verbose=1, \n",
    "                              mode='auto')\n",
    "\n",
    "## reduce the learning rate if the val_loss didn't improve\n",
    "ReduceL = ReduceLROnPlateau(monitor='val_loss',\n",
    "                      factor=0.1, \n",
    "                      patience=3, \n",
    "                      verbose=0, \n",
    "                      mode='auto')\n",
    "\n",
    "## train the model\n",
    "history = model.fit(X_t, y,\n",
    "          batch_size=256, \n",
    "          epochs=50, \n",
    "          validation_split=0.3,\n",
    "          callbacks=[earlystopping, checkpoint, ReduceL])\n",
    "\n",
    "# summarize history for accuracy\n",
    "plt.plot(history.history['accuracy'])\n",
    "plt.plot(history.history['val_accuracy'])\n",
    "plt.title('model accuracy')\n",
    "plt.ylabel('accuracy')\n",
    "plt.xlabel('epoch')\n",
    "plt.legend(['train', 'test'], loc='upper left') \n",
    "plt.show()\n",
    "# summarize history for loss \n",
    "plt.plot(history.history['loss']) \n",
    "plt.plot(history.history['val_loss']) \n",
    "plt.title('model loss')\n",
    "plt.ylabel('loss')\n",
    "plt.xlabel('epoch')\n",
    "plt.legend(['train', 'test'], loc='upper left') \n",
    "plt.show()"
   ]
  },
  {
   "cell_type": "markdown",
   "metadata": {},
   "source": [
    "##### The accuracy of train keeps improve but the test (validation) keeps stay around 90%. And the loss has the same situation.  "
   ]
  },
  {
   "cell_type": "code",
   "execution_count": 32,
   "metadata": {},
   "outputs": [
    {
     "name": "stdout",
     "output_type": "stream",
     "text": [
      "WARNING:tensorflow:Layer lstm_3 will not use cuDNN kernel since it doesn't meet the cuDNN kernel criteria. It will use generic GPU kernel as fallback when running on GPU\n",
      "WARNING:tensorflow:Layer lstm_3 will not use cuDNN kernel since it doesn't meet the cuDNN kernel criteria. It will use generic GPU kernel as fallback when running on GPU\n",
      "WARNING:tensorflow:Layer lstm_3 will not use cuDNN kernel since it doesn't meet the cuDNN kernel criteria. It will use generic GPU kernel as fallback when running on GPU\n",
      "63/63 [==============================] - 5s 79ms/step\n",
      "accuracy: 0.9677753811205936\n"
     ]
    }
   ],
   "source": [
    "## load best model\n",
    "model = keras.models.load_model('aug_modelbest.hdf5')\n",
    "## address test\n",
    "list_sentences_test = test[\"comment_text\"].fillna(\"_na_\").values\n",
    "list_tokenized_test = tokenizer.texts_to_sequences(list_sentences_test)\n",
    "y = pad_sequences(list_tokenized_test, maxlen=maxlen)\n",
    "## predict\n",
    "y_pred = model.predict(y, batch_size=1024, verbose=1)\n",
    "## caculate the accuracy\n",
    "y_pred[y_pred>=0.5] = 1\n",
    "y_pred[y_pred<0.5] = 0 \n",
    "y_true = test[list_classes].values\n",
    "total = 0\n",
    "acc = 0\n",
    "for i in range(len(y_true)):\n",
    "    for j in range(len(y_true[0])):\n",
    "        if y_true[i][j] != -1:\n",
    "            if y_true[i][j] == y_pred[i][j]:\n",
    "                acc +=1\n",
    "            total += 1\n",
    "print('accuracy:', acc/total)"
   ]
  },
  {
   "cell_type": "markdown",
   "metadata": {},
   "source": [
    "## BERT "
   ]
  },
  {
   "cell_type": "code",
   "execution_count": 2,
   "metadata": {},
   "outputs": [],
   "source": [
    "import os\n",
    "from typing import Tuple, List\n",
    "from functools import partial\n",
    "\n",
    "import pandas as pd\n",
    "import numpy as np\n",
    "import torch\n",
    "import torch.nn as nn\n",
    "import torch.optim as optim\n",
    "from torch.utils.data import Dataset, DataLoader, RandomSampler\n",
    "from torch.nn.utils.rnn import pad_sequence\n",
    "from transformers import BertTokenizer, BertModel, AdamW, get_linear_schedule_with_warmup, BertPreTrainedModel\n",
    "from sklearn.model_selection import train_test_split\n",
    "from sklearn.metrics import roc_auc_score\n",
    "from tqdm import tqdm\n",
    "\n",
    "from transformers import TFBertModel"
   ]
  },
  {
   "cell_type": "code",
   "execution_count": 3,
   "metadata": {},
   "outputs": [],
   "source": [
    "#### load data\n",
    "train = pd.read_csv('C:\\\\Users\\\\admin\\\\Desktop\\\\capstone\\\\project\\\\train.csv\\\\train.csv')\n",
    "train_lower = pd.read_csv('data_lower.csv')\n",
    "train_up_down = pd.read_csv('balance.csv')\n",
    "train_aug = pd.read_csv('train_aug.csv')\n",
    "test = pd.read_csv('test_new.csv')"
   ]
  },
  {
   "cell_type": "markdown",
   "metadata": {},
   "source": [
    "#### Original"
   ]
  },
  {
   "cell_type": "code",
   "execution_count": 4,
   "metadata": {},
   "outputs": [],
   "source": [
    "## the class \n",
    "label_cols = ['toxic', 'severe_toxic', 'obscene', 'threat', 'insult', 'identity_hate']\n",
    "\n",
    "df_train = train\n",
    "df_test = test\n",
    "#df_test_labels = pd.read_csv(test_labels_path)\n",
    "#df_test_labels = df_test_labels.set_index('id')"
   ]
  },
  {
   "cell_type": "code",
   "execution_count": 5,
   "metadata": {},
   "outputs": [],
   "source": [
    "## select the bert model we want to use\n",
    "bert_model_name = 'bert-base-cased'\n",
    "\n",
    "## set the GPU\n",
    "device = torch.device('cpu')\n",
    "if torch.cuda.is_available():\n",
    "    device = torch.device('cuda')\n",
    "tokenizer = BertTokenizer.from_pretrained(bert_model_name)\n",
    "assert tokenizer.pad_token_id == 0, \"Padding value used in masks is set to zero, please change it everywhere\"\n",
    "\n",
    "#train_df = pd.read_csv(train_path)\n",
    "## split train and val\n",
    "train_df, val_df = train_test_split(df_train, test_size=0.3)\n",
    "max_seq_len = 128 "
   ]
  },
  {
   "cell_type": "code",
   "execution_count": 6,
   "metadata": {},
   "outputs": [],
   "source": [
    "## set the data loader to load the data and trainfer to the type that can input to the BERT\n",
    "class ToxicDataset(Dataset):\n",
    "    \n",
    "    def __init__(self, tokenizer: BertTokenizer, dataframe: pd.DataFrame, lazy: bool = False):\n",
    "        self.tokenizer = tokenizer\n",
    "        self.pad_idx = tokenizer.pad_token_id\n",
    "        self.lazy = lazy\n",
    "        if not self.lazy:\n",
    "            self.X = []\n",
    "            self.Y = []\n",
    "            for i, (row) in tqdm(dataframe.iterrows()):\n",
    "                x, y = self.row_to_tensor(self.tokenizer, row)\n",
    "                self.X.append(x)\n",
    "                self.Y.append(y)\n",
    "        else:\n",
    "            self.df = dataframe        \n",
    "    \n",
    "    @staticmethod\n",
    "    def row_to_tensor(tokenizer: BertTokenizer, row: pd.Series) -> Tuple[torch.LongTensor, torch.LongTensor]:\n",
    "        tokens = tokenizer.encode(row[\"comment_text\"], add_special_tokens=True, max_length = max_seq_len, truncation=True)\n",
    "        #if len(tokens) > 120:\n",
    "            #tokens = tokens[:119] + [tokens[-1]]\n",
    "        x = torch.LongTensor(tokens)\n",
    "        y = torch.FloatTensor(row[[\"toxic\", \"severe_toxic\", \"obscene\", \"threat\", \"insult\", \"identity_hate\"]])\n",
    "        return x, y\n",
    "        \n",
    "    \n",
    "    def __len__(self):\n",
    "        if self.lazy:\n",
    "            return len(self.df)\n",
    "        else:\n",
    "            return len(self.X)\n",
    "\n",
    "    def __getitem__(self, index: int) -> Tuple[torch.LongTensor, torch.LongTensor]:\n",
    "        if not self.lazy:\n",
    "            return self.X[index], self.Y[index]\n",
    "        else:\n",
    "            return self.row_to_tensor(self.tokenizer, self.df.iloc[index])\n",
    "            \n",
    "\n",
    "def collate_fn(batch: List[Tuple[torch.LongTensor, torch.LongTensor]], device: torch.device) \\\n",
    "        -> Tuple[torch.LongTensor, torch.LongTensor]:\n",
    "    x, y = list(zip(*batch))\n",
    "    x = pad_sequence(x, batch_first=True, padding_value=0)\n",
    "    y = torch.stack(y)\n",
    "    return x.to(device), y.to(device)\n",
    "## data set\n",
    "train_dataset = ToxicDataset(tokenizer, train_df, lazy=True)\n",
    "dev_dataset = ToxicDataset(tokenizer, val_df, lazy=True)\n",
    "collate_fn = partial(collate_fn, device=device)\n",
    "## batch size\n",
    "BATCH_SIZE = 8\n",
    "## load the data \n",
    "train_sampler = RandomSampler(train_dataset)\n",
    "dev_sampler = RandomSampler(dev_dataset)\n",
    "train_iterator = DataLoader(train_dataset, batch_size=BATCH_SIZE, sampler=train_sampler, collate_fn=collate_fn)\n",
    "dev_iterator = DataLoader(dev_dataset, batch_size=BATCH_SIZE, sampler=dev_sampler, collate_fn=collate_fn)"
   ]
  },
  {
   "cell_type": "code",
   "execution_count": 7,
   "metadata": {},
   "outputs": [],
   "source": [
    "## define the bert\n",
    "class BertClassifier(nn.Module):\n",
    "    \n",
    "    def __init__(self, bert: BertModel, num_classes: int):\n",
    "        super().__init__()\n",
    "        self.bert = bert\n",
    "        self.classifier = nn.Linear(bert.config.hidden_size, num_classes)\n",
    "        \n",
    "    def forward(self, input_ids, attention_mask=None, token_type_ids=None, position_ids=None, head_mask=None,\n",
    "                \n",
    "            labels=None):\n",
    "        outputs = self.bert(input_ids,\n",
    "                               attention_mask=attention_mask,\n",
    "                               token_type_ids=token_type_ids,\n",
    "                               position_ids=position_ids,\n",
    "                               head_mask=head_mask)\n",
    "        cls_output = outputs[1] # batch, hidden\n",
    "        cls_output = self.classifier(cls_output) # batch, 6\n",
    "        cls_output = torch.sigmoid(cls_output)\n",
    "        criterion = nn.BCELoss()\n",
    "        loss = 0\n",
    "        if labels is not None:\n",
    "            loss = criterion(cls_output, labels)\n",
    "        return loss, cls_output\n",
    "\n",
    "model = BertClassifier(BertModel.from_pretrained(bert_model_name), 6).to(device)"
   ]
  },
  {
   "cell_type": "code",
   "execution_count": 8,
   "metadata": {},
   "outputs": [],
   "source": [
    "## define the train\n",
    "def train(model, iterator, optimizer, scheduler, loss_train):\n",
    "    model.train()\n",
    "    total_loss = 0\n",
    "    for x, y in tqdm(iterator):\n",
    "        optimizer.zero_grad()\n",
    "        mask = (x != 0).float()\n",
    "        loss, outputs = model(x, attention_mask=mask, labels=y)\n",
    "        total_loss += loss.item()\n",
    "        loss.backward()\n",
    "        optimizer.step()\n",
    "        scheduler.step()\n",
    "        \n",
    "    print(f\"Train loss {total_loss / len(iterator)}\")\n",
    "    loss_train.append(total_loss // len(iterator))\n",
    "## define evaluate\n",
    "def evaluate(model, iterator, loss_val):\n",
    "    model.eval()\n",
    "    pred = []\n",
    "    true = []\n",
    "    with torch.no_grad():\n",
    "        total_loss = 0\n",
    "        for x, y in tqdm(iterator):\n",
    "            mask = (x != 0).float()\n",
    "            loss, outputs = model(x, attention_mask=mask, labels=y)\n",
    "            total_loss += loss\n",
    "            true += y.cpu().numpy().tolist()\n",
    "            pred += outputs.cpu().numpy().tolist()\n",
    "    true = np.array(true)\n",
    "    pred = np.array(pred)\n",
    "    for i, name in enumerate(['toxic', 'severe_toxic', 'obscene', 'threat', 'insult', 'identity_hate']):\n",
    "        print(f\"{name} roc_auc {roc_auc_score(true[:, i], pred[:, i])}\")\n",
    "    print(f\"Evaluate loss {total_loss / len(iterator)}\")\n",
    "    val_loss = total_loss // len(iterator)\n",
    "    loss_val.append(val_loss)"
   ]
  },
  {
   "cell_type": "code",
   "execution_count": 9,
   "metadata": {},
   "outputs": [],
   "source": [
    "no_decay = ['bias', 'LayerNorm.weight']\n",
    "optimizer_grouped_parameters = [\n",
    "{'params': [p for n, p in model.named_parameters() if not any(nd in n for nd in no_decay)], 'weight_decay': 0.01},\n",
    "{'params': [p for n, p in model.named_parameters() if any(nd in n for nd in no_decay)], 'weight_decay': 0.0}\n",
    "]\n",
    "EPOCH_NUM = 5\n",
    "# triangular learning rate, linearly grows untill half of first epoch, then linearly decays \n",
    "warmup_steps = 10 ** 3\n",
    "total_steps = len(train_iterator) * EPOCH_NUM - warmup_steps\n",
    "optimizer = AdamW(optimizer_grouped_parameters, lr=2e-5, eps=1e-8)\n",
    "scheduler = get_linear_schedule_with_warmup(optimizer, warmup_steps, total_steps)\n",
    "# scheduler = WarmupLinearSchedule(optimizer, warmup_steps=warmup_steps, t_total=total_steps)"
   ]
  },
  {
   "cell_type": "code",
   "execution_count": 10,
   "metadata": {
    "scrolled": true
   },
   "outputs": [
    {
     "name": "stderr",
     "output_type": "stream",
     "text": [
      "\r",
      "  0%|                                                                                                                           | 0/17952 [00:00<?, ?it/s]"
     ]
    },
    {
     "name": "stdout",
     "output_type": "stream",
     "text": [
      "---------------------------- EPOCH 0 ----------------------------\n"
     ]
    },
    {
     "name": "stderr",
     "output_type": "stream",
     "text": [
      "100%|█████████████████████████████████████████████████████████████████████████████████████████████████████████████| 17952/17952 [2:34:37<00:00,  1.94it/s]\n",
      "  0%|                                                                                                                            | 0/1995 [00:00<?, ?it/s]"
     ]
    },
    {
     "name": "stdout",
     "output_type": "stream",
     "text": [
      "Train loss 0.05371485110747321\n"
     ]
    },
    {
     "name": "stderr",
     "output_type": "stream",
     "text": [
      "100%|█████████████████████████████████████████████████████████████████████████████████████████████████████████████████| 1995/1995 [05:08<00:00,  6.47it/s]\n",
      "  0%|                                                                                                                           | 0/17952 [00:00<?, ?it/s]"
     ]
    },
    {
     "name": "stdout",
     "output_type": "stream",
     "text": [
      "toxic roc_auc 0.9848761542697391\n",
      "severe_toxic roc_auc 0.9918090091740318\n",
      "obscene roc_auc 0.9907814365425236\n",
      "threat roc_auc 0.9950724014810897\n",
      "insult roc_auc 0.9858288054417388\n",
      "identity_hate roc_auc 0.9727442564444829\n",
      "Evaluate loss 0.0386914387345314\n",
      "---------------------------- EPOCH 1 ----------------------------\n"
     ]
    },
    {
     "name": "stderr",
     "output_type": "stream",
     "text": [
      "100%|█████████████████████████████████████████████████████████████████████████████████████████████████████████████| 17952/17952 [2:35:40<00:00,  1.92it/s]\n",
      "  0%|                                                                                                                            | 0/1995 [00:00<?, ?it/s]"
     ]
    },
    {
     "name": "stdout",
     "output_type": "stream",
     "text": [
      "Train loss 0.03493914935099185\n"
     ]
    },
    {
     "name": "stderr",
     "output_type": "stream",
     "text": [
      "100%|█████████████████████████████████████████████████████████████████████████████████████████████████████████████████| 1995/1995 [05:09<00:00,  6.44it/s]\n",
      "  0%|                                                                                                                           | 0/17952 [00:00<?, ?it/s]"
     ]
    },
    {
     "name": "stdout",
     "output_type": "stream",
     "text": [
      "toxic roc_auc 0.9854196911293551\n",
      "severe_toxic roc_auc 0.9923027103409026\n",
      "obscene roc_auc 0.9922790905166475\n",
      "threat roc_auc 0.9961865247289077\n",
      "insult roc_auc 0.986496474518687\n",
      "identity_hate roc_auc 0.9772195801696189\n",
      "Evaluate loss 0.04069212079048157\n",
      "---------------------------- EPOCH 2 ----------------------------\n"
     ]
    },
    {
     "name": "stderr",
     "output_type": "stream",
     "text": [
      "100%|█████████████████████████████████████████████████████████████████████████████████████████████████████████████| 17952/17952 [2:34:30<00:00,  1.94it/s]\n",
      "  0%|                                                                                                                            | 0/1995 [00:00<?, ?it/s]"
     ]
    },
    {
     "name": "stdout",
     "output_type": "stream",
     "text": [
      "Train loss 0.025605995527234922\n"
     ]
    },
    {
     "name": "stderr",
     "output_type": "stream",
     "text": [
      "100%|█████████████████████████████████████████████████████████████████████████████████████████████████████████████████| 1995/1995 [05:09<00:00,  6.45it/s]\n",
      "  0%|                                                                                                                           | 0/17952 [00:00<?, ?it/s]"
     ]
    },
    {
     "name": "stdout",
     "output_type": "stream",
     "text": [
      "toxic roc_auc 0.9845560586164936\n",
      "severe_toxic roc_auc 0.9923149220305423\n",
      "obscene roc_auc 0.991798099156821\n",
      "threat roc_auc 0.9952558846865909\n",
      "insult roc_auc 0.985792810788894\n",
      "identity_hate roc_auc 0.9810151997922351\n",
      "Evaluate loss 0.041658252477645874\n",
      "---------------------------- EPOCH 3 ----------------------------\n"
     ]
    },
    {
     "name": "stderr",
     "output_type": "stream",
     "text": [
      "100%|█████████████████████████████████████████████████████████████████████████████████████████████████████████████| 17952/17952 [2:35:42<00:00,  1.92it/s]\n",
      "  0%|                                                                                                                            | 0/1995 [00:00<?, ?it/s]"
     ]
    },
    {
     "name": "stdout",
     "output_type": "stream",
     "text": [
      "Train loss 0.01725672707980817\n"
     ]
    },
    {
     "name": "stderr",
     "output_type": "stream",
     "text": [
      "100%|█████████████████████████████████████████████████████████████████████████████████████████████████████████████████| 1995/1995 [05:12<00:00,  6.38it/s]\n",
      "  0%|                                                                                                                           | 0/17952 [00:00<?, ?it/s]"
     ]
    },
    {
     "name": "stdout",
     "output_type": "stream",
     "text": [
      "toxic roc_auc 0.9831857363451526\n",
      "severe_toxic roc_auc 0.9922608416907084\n",
      "obscene roc_auc 0.9901605363364154\n",
      "threat roc_auc 0.9956377281142554\n",
      "insult roc_auc 0.9859131254093598\n",
      "identity_hate roc_auc 0.9756607846477351\n",
      "Evaluate loss 0.048739925026893616\n",
      "---------------------------- EPOCH 4 ----------------------------\n"
     ]
    },
    {
     "name": "stderr",
     "output_type": "stream",
     "text": [
      "100%|█████████████████████████████████████████████████████████████████████████████████████████████████████████████| 17952/17952 [2:36:47<00:00,  1.91it/s]\n"
     ]
    },
    {
     "name": "stdout",
     "output_type": "stream",
     "text": [
      "Train loss 0.010992153958737056\n"
     ]
    },
    {
     "name": "stderr",
     "output_type": "stream",
     "text": [
      "100%|█████████████████████████████████████████████████████████████████████████████████████████████████████████████████| 1995/1995 [05:17<00:00,  6.29it/s]\n"
     ]
    },
    {
     "name": "stdout",
     "output_type": "stream",
     "text": [
      "toxic roc_auc 0.9810502891931856\n",
      "severe_toxic roc_auc 0.9916358648602089\n",
      "obscene roc_auc 0.9889992554032029\n",
      "threat roc_auc 0.9950674424755356\n",
      "insult roc_auc 0.9852689389900608\n",
      "identity_hate roc_auc 0.9748894852512028\n",
      "Evaluate loss 0.05520354211330414\n"
     ]
    }
   ],
   "source": [
    "## train\n",
    "loss_train = []\n",
    "loss_val = []\n",
    "for i in range(EPOCH_NUM):\n",
    "    print('----------------------------' , f\"EPOCH {i}\", '----------------------------')\n",
    "    train(model, train_iterator, optimizer, scheduler, loss_train)\n",
    "    evaluate(model, dev_iterator, loss_val)\n"
   ]
  },
  {
   "cell_type": "code",
   "execution_count": 1,
   "metadata": {},
   "outputs": [
    {
     "data": {
      "image/png": "[encoded data removed]",
      "text/plain": [
       "<Figure size 432x288 with 2 Axes>"
      ]
     },
     "metadata": {
      "needs_background": "light"
     },
     "output_type": "display_data"
    }
   ],
   "source": [
    "import matplotlib.pyplot as plt\n",
    "## loss plot\n",
    "Loss_train = [0.05371485110747321, 0.03493914935099185, 0.025605995527234922, 0.01725672707980817, 0.010992153958737056]\n",
    "Loss_evaluate = [0.0386914387345314, 0.04069212079048157, 0.041658252477645874, 0.048739925026893616, 0.05520354211330414]\n",
    "x1 = range(0, 5)\n",
    "x2 = range(0, 5)\n",
    "y1 = Loss_train\n",
    "y2 = Loss_evaluate\n",
    "plt.subplot(2, 1, 1)\n",
    "plt.plot(x1, y1, 'o-')\n",
    "plt.title('Train loss vs. epoches')\n",
    "plt.ylabel('Train loss')\n",
    "plt.subplot(2, 1, 2)\n",
    "plt.plot(x2, y2, '.-')\n",
    "plt.xlabel('Evaluate loss vs. epoches')\n",
    "plt.ylabel('Evaluate loss')\n",
    "plt.show()"
   ]
  },
  {
   "cell_type": "markdown",
   "metadata": {},
   "source": [
    "##### The loss of train improves but the loss of evaluate (validation) goes up. "
   ]
  },
  {
   "cell_type": "code",
   "execution_count": 13,
   "metadata": {},
   "outputs": [],
   "source": [
    "## save model\n",
    "torch.save(model, 'bert_orginal.pkl')"
   ]
  },
  {
   "cell_type": "code",
   "execution_count": 25,
   "metadata": {
    "scrolled": true
   },
   "outputs": [
    {
     "name": "stderr",
     "output_type": "stream",
     "text": [
      "  0%|                                                                                                                            | 0/7998 [00:00<?, ?it/s]<ipython-input-25-15db9229ca9c>:18: SettingWithCopyWarning: \n",
      "A value is trying to be set on a copy of a slice from a DataFrame.\n",
      "Try using .loc[row_indexer,col_indexer] = value instead\n",
      "\n",
      "See the caveats in the documentation: https://pandas.pydata.org/pandas-docs/stable/user_guide/indexing.html#returning-a-view-versus-a-copy\n",
      "  submission.iloc[i * BATCH_SIZE: (i + 1) * BATCH_SIZE][columns] = outputs\n",
      "100%|█████████████████████████████████████████████████████████████████████████████████████████████████████████████████| 7998/7998 [20:19<00:00,  6.56it/s]\n"
     ]
    }
   ],
   "source": [
    "## predict\n",
    "test_df = test[['id', 'comment_text']]\n",
    "submission = test\n",
    "columns = ['toxic', 'severe_toxic', 'obscene', 'threat', 'insult', 'identity_hate']\n",
    "for i in tqdm(range(len(test_df) // BATCH_SIZE + 1)):\n",
    "    batch_df = test_df.iloc[i * BATCH_SIZE: (i + 1) * BATCH_SIZE]\n",
    "    assert (batch_df[\"id\"] == submission[\"id\"][i * BATCH_SIZE: (i + 1) * BATCH_SIZE]).all(), f\"Id mismatch\"\n",
    "    texts = []\n",
    "    for text in batch_df[\"comment_text\"].tolist():\n",
    "        text = tokenizer.encode(text, add_special_tokens=True, max_length = max_seq_len, truncation=True)\n",
    "        #if len(text) > 120:\n",
    "            #text = text[:119] + [tokenizer.sep_token_id]\n",
    "        texts.append(torch.LongTensor(text))\n",
    "    x = pad_sequence(texts, batch_first=True, padding_value=tokenizer.pad_token_id).to(device)\n",
    "    mask = (x != tokenizer.pad_token_id).float().to(device)\n",
    "    with torch.no_grad():\n",
    "        _, outputs = model(x, attention_mask=mask)\n",
    "    outputs = outputs.cpu().numpy()\n",
    "    submission.iloc[i * BATCH_SIZE: (i + 1) * BATCH_SIZE][columns] = outputs"
   ]
  },
  {
   "cell_type": "code",
   "execution_count": 35,
   "metadata": {},
   "outputs": [
    {
     "name": "stdout",
     "output_type": "stream",
     "text": [
      "accuracy: 1.0\n"
     ]
    }
   ],
   "source": [
    "## accuracy\n",
    "list_classes = [\"toxic\", \"severe_toxic\", \"obscene\", \"threat\", \"insult\", \"identity_hate\"]\n",
    "test_true = test[list_classes].values\n",
    "test_pred = submission[list_classes].values\n",
    "total = 0\n",
    "acc = 0\n",
    "for i in range(len(test_true)):\n",
    "    for j in range(len(test_true[0])):\n",
    "        if test_true[i][j] != -1:\n",
    "            if test_true[i][j] == test_pred[i][j]:\n",
    "                acc +=1\n",
    "            total += 1\n",
    "print('accuracy:', acc/total)"
   ]
  },
  {
   "cell_type": "markdown",
   "metadata": {},
   "source": [
    "#### lower the clear data "
   ]
  },
  {
   "cell_type": "code",
   "execution_count": 4,
   "metadata": {},
   "outputs": [],
   "source": [
    "label_cols = ['toxic', 'severe_toxic', 'obscene', 'threat', 'insult', 'identity_hate']\n",
    "\n",
    "df_train = train_lower\n",
    "df_test = test\n",
    "\n",
    "bert_model_name = 'bert-base-cased'\n",
    "\n",
    "device = torch.device('cpu')\n",
    "if torch.cuda.is_available():\n",
    "    device = torch.device('cuda')\n",
    "tokenizer = BertTokenizer.from_pretrained(bert_model_name)\n",
    "assert tokenizer.pad_token_id == 0, \"Padding value used in masks is set to zero, please change it everywhere\"\n",
    "\n",
    "#train_df = pd.read_csv(train_path)\n",
    "\n",
    "train_df, val_df = train_test_split(df_train, test_size=0.3)\n",
    "\n",
    "max_seq_len = 128 \n",
    "\n",
    "\n",
    "class ToxicDataset(Dataset):\n",
    "    \n",
    "    def __init__(self, tokenizer: BertTokenizer, dataframe: pd.DataFrame, lazy: bool = False):\n",
    "        self.tokenizer = tokenizer\n",
    "        self.pad_idx = tokenizer.pad_token_id\n",
    "        self.lazy = lazy\n",
    "        if not self.lazy:\n",
    "            self.X = []\n",
    "            self.Y = []\n",
    "            for i, (row) in tqdm(dataframe.iterrows()):\n",
    "                x, y = self.row_to_tensor(self.tokenizer, row)\n",
    "                self.X.append(x)\n",
    "                self.Y.append(y)\n",
    "        else:\n",
    "            self.df = dataframe        \n",
    "    \n",
    "    @staticmethod\n",
    "    def row_to_tensor(tokenizer: BertTokenizer, row: pd.Series) -> Tuple[torch.LongTensor, torch.LongTensor]:\n",
    "        tokens = tokenizer.encode(row[\"comment_text\"], add_special_tokens=True, max_length = max_seq_len, truncation=True)\n",
    "        #if len(tokens) > 120:\n",
    "            #tokens = tokens[:119] + [tokens[-1]]\n",
    "        x = torch.LongTensor(tokens)\n",
    "        y = torch.FloatTensor(row[[\"toxic\", \"severe_toxic\", \"obscene\", \"threat\", \"insult\", \"identity_hate\"]])\n",
    "        return x, y\n",
    "        \n",
    "    \n",
    "    def __len__(self):\n",
    "        if self.lazy:\n",
    "            return len(self.df)\n",
    "        else:\n",
    "            return len(self.X)\n",
    "\n",
    "    def __getitem__(self, index: int) -> Tuple[torch.LongTensor, torch.LongTensor]:\n",
    "        if not self.lazy:\n",
    "            return self.X[index], self.Y[index]\n",
    "        else:\n",
    "            return self.row_to_tensor(self.tokenizer, self.df.iloc[index])\n",
    "            \n",
    "\n",
    "def collate_fn(batch: List[Tuple[torch.LongTensor, torch.LongTensor]], device: torch.device) \\\n",
    "        -> Tuple[torch.LongTensor, torch.LongTensor]:\n",
    "    x, y = list(zip(*batch))\n",
    "    x = pad_sequence(x, batch_first=True, padding_value=0)\n",
    "    y = torch.stack(y)\n",
    "    return x.to(device), y.to(device)\n",
    "\n",
    "train_dataset = ToxicDataset(tokenizer, train_df, lazy=True)\n",
    "dev_dataset = ToxicDataset(tokenizer, val_df, lazy=True)\n",
    "collate_fn = partial(collate_fn, device=device)\n",
    "BATCH_SIZE = 8\n",
    "train_sampler = RandomSampler(train_dataset)\n",
    "dev_sampler = RandomSampler(dev_dataset)\n",
    "train_iterator = DataLoader(train_dataset, batch_size=BATCH_SIZE, sampler=train_sampler, collate_fn=collate_fn)\n",
    "dev_iterator = DataLoader(dev_dataset, batch_size=BATCH_SIZE, sampler=dev_sampler, collate_fn=collate_fn)\n",
    "\n",
    "class BertClassifier(nn.Module):\n",
    "    \n",
    "    def __init__(self, bert: BertModel, num_classes: int):\n",
    "        super().__init__()\n",
    "        self.bert = bert\n",
    "        self.classifier = nn.Linear(bert.config.hidden_size, num_classes)\n",
    "        \n",
    "    def forward(self, input_ids, attention_mask=None, token_type_ids=None, position_ids=None, head_mask=None,\n",
    "                \n",
    "            labels=None):\n",
    "        outputs = self.bert(input_ids,\n",
    "                               attention_mask=attention_mask,\n",
    "                               token_type_ids=token_type_ids,\n",
    "                               position_ids=position_ids,\n",
    "                               head_mask=head_mask)\n",
    "        cls_output = outputs[1] # batch, hidden\n",
    "        cls_output = self.classifier(cls_output) # batch, 6\n",
    "        cls_output = torch.sigmoid(cls_output)\n",
    "        criterion = nn.BCELoss()\n",
    "        loss = 0\n",
    "        if labels is not None:\n",
    "            loss = criterion(cls_output, labels)\n",
    "        return loss, cls_output\n",
    "\n",
    "model = BertClassifier(BertModel.from_pretrained(bert_model_name), 6).to(device)\n",
    "\n",
    "def train(model, iterator, optimizer, scheduler, loss_train):\n",
    "    model.train()\n",
    "    total_loss = 0\n",
    "    for x, y in tqdm(iterator):\n",
    "        optimizer.zero_grad()\n",
    "        mask = (x != 0).float()\n",
    "        loss, outputs = model(x, attention_mask=mask, labels=y)\n",
    "        total_loss += loss.item()\n",
    "        loss.backward()\n",
    "        optimizer.step()\n",
    "        scheduler.step()\n",
    "        \n",
    "    print(f\"Train loss {total_loss / len(iterator)}\")\n",
    "    loss_train.append(total_loss // len(iterator))\n",
    "\n",
    "def evaluate(model, iterator, loss_val):\n",
    "    model.eval()\n",
    "    pred = []\n",
    "    true = []\n",
    "    with torch.no_grad():\n",
    "        total_loss = 0\n",
    "        for x, y in tqdm(iterator):\n",
    "            mask = (x != 0).float()\n",
    "            loss, outputs = model(x, attention_mask=mask, labels=y)\n",
    "            total_loss += loss\n",
    "            true += y.cpu().numpy().tolist()\n",
    "            pred += outputs.cpu().numpy().tolist()\n",
    "    true = np.array(true)\n",
    "    pred = np.array(pred)\n",
    "    for i, name in enumerate(['toxic', 'severe_toxic', 'obscene', 'threat', 'insult', 'identity_hate']):\n",
    "        print(f\"{name} roc_auc {roc_auc_score(true[:, i], pred[:, i])}\")\n",
    "    print(f\"Evaluate loss {total_loss / len(iterator)}\")\n",
    "    val_loss = total_loss // len(iterator)\n",
    "    loss_val.append(val_loss)\n",
    "    \n",
    "    \n",
    "no_decay = ['bias', 'LayerNorm.weight']\n",
    "optimizer_grouped_parameters = [\n",
    "{'params': [p for n, p in model.named_parameters() if not any(nd in n for nd in no_decay)], 'weight_decay': 0.01},\n",
    "{'params': [p for n, p in model.named_parameters() if any(nd in n for nd in no_decay)], 'weight_decay': 0.0}\n",
    "]\n",
    "EPOCH_NUM = 5\n",
    "# triangular learning rate, linearly grows untill half of first epoch, then linearly decays \n",
    "warmup_steps = 10 ** 3\n",
    "total_steps = len(train_iterator) * EPOCH_NUM - warmup_steps\n",
    "optimizer = AdamW(optimizer_grouped_parameters, lr=2e-5, eps=1e-8)\n",
    "scheduler = get_linear_schedule_with_warmup(optimizer, warmup_steps, total_steps)\n",
    "# scheduler = WarmupLinearSchedule(optimizer, warmup_steps=warmup_steps, t_total=total_steps)"
   ]
  },
  {
   "cell_type": "code",
   "execution_count": 5,
   "metadata": {
    "scrolled": true
   },
   "outputs": [
    {
     "name": "stderr",
     "output_type": "stream",
     "text": [
      "\r",
      "  0%|                                                                                                                                   | 0/2295 [00:00<?, ?it/s]"
     ]
    },
    {
     "name": "stdout",
     "output_type": "stream",
     "text": [
      "---------------------------- EPOCH 0 ----------------------------\n"
     ]
    },
    {
     "name": "stderr",
     "output_type": "stream",
     "text": [
      "100%|████████████████████████████████████████████████████████████████████████████████████████████████████████████████████████| 2295/2295 [19:14<00:00,  1.99it/s]\n"
     ]
    },
    {
     "name": "stdout",
     "output_type": "stream",
     "text": [
      "Train loss 0.27326929358388086\n"
     ]
    },
    {
     "name": "stderr",
     "output_type": "stream",
     "text": [
      "100%|██████████████████████████████████████████████████████████████████████████████████████████████████████████████████████████| 984/984 [02:33<00:00,  6.42it/s]\n",
      "  0%|                                                                                                                                   | 0/2295 [00:00<?, ?it/s]"
     ]
    },
    {
     "name": "stdout",
     "output_type": "stream",
     "text": [
      "toxic roc_auc 0.964415902147181\n",
      "severe_toxic roc_auc 0.9437390999216754\n",
      "obscene roc_auc 0.9596804272272612\n",
      "threat roc_auc 0.8737786127666927\n",
      "insult roc_auc 0.9216090816859004\n",
      "identity_hate roc_auc 0.8992510399892647\n",
      "Evaluate loss 0.1969003826379776\n",
      "---------------------------- EPOCH 1 ----------------------------\n"
     ]
    },
    {
     "name": "stderr",
     "output_type": "stream",
     "text": [
      "100%|████████████████████████████████████████████████████████████████████████████████████████████████████████████████████████| 2295/2295 [19:35<00:00,  1.95it/s]\n",
      "  0%|                                                                                                                                    | 0/984 [00:00<?, ?it/s]"
     ]
    },
    {
     "name": "stdout",
     "output_type": "stream",
     "text": [
      "Train loss 0.17559432678557688\n"
     ]
    },
    {
     "name": "stderr",
     "output_type": "stream",
     "text": [
      "100%|██████████████████████████████████████████████████████████████████████████████████████████████████████████████████████████| 984/984 [02:34<00:00,  6.37it/s]\n",
      "  0%|                                                                                                                                   | 0/2295 [00:00<?, ?it/s]"
     ]
    },
    {
     "name": "stdout",
     "output_type": "stream",
     "text": [
      "toxic roc_auc 0.967433601340499\n",
      "severe_toxic roc_auc 0.9436423330398576\n",
      "obscene roc_auc 0.9624968584043818\n",
      "threat roc_auc 0.9462650082059256\n",
      "insult roc_auc 0.9258327950199708\n",
      "identity_hate roc_auc 0.9399906194516702\n",
      "Evaluate loss 0.17986412346363068\n",
      "---------------------------- EPOCH 2 ----------------------------\n"
     ]
    },
    {
     "name": "stderr",
     "output_type": "stream",
     "text": [
      "100%|████████████████████████████████████████████████████████████████████████████████████████████████████████████████████████| 2295/2295 [19:36<00:00,  1.95it/s]\n",
      "  0%|                                                                                                                                    | 0/984 [00:00<?, ?it/s]"
     ]
    },
    {
     "name": "stdout",
     "output_type": "stream",
     "text": [
      "Train loss 0.13625585961100808\n"
     ]
    },
    {
     "name": "stderr",
     "output_type": "stream",
     "text": [
      "100%|██████████████████████████████████████████████████████████████████████████████████████████████████████████████████████████| 984/984 [02:31<00:00,  6.50it/s]\n",
      "  0%|                                                                                                                                   | 0/2295 [00:00<?, ?it/s]"
     ]
    },
    {
     "name": "stdout",
     "output_type": "stream",
     "text": [
      "toxic roc_auc 0.9657513603138754\n",
      "severe_toxic roc_auc 0.941297151078088\n",
      "obscene roc_auc 0.9596421332215\n",
      "threat roc_auc 0.9464913189945582\n",
      "insult roc_auc 0.9249571774145052\n",
      "identity_hate roc_auc 0.9473666723440274\n",
      "Evaluate loss 0.19019529223442078\n",
      "---------------------------- EPOCH 3 ----------------------------\n"
     ]
    },
    {
     "name": "stderr",
     "output_type": "stream",
     "text": [
      "100%|████████████████████████████████████████████████████████████████████████████████████████████████████████████████████████| 2295/2295 [19:41<00:00,  1.94it/s]\n",
      "  0%|                                                                                                                                    | 0/984 [00:00<?, ?it/s]"
     ]
    },
    {
     "name": "stdout",
     "output_type": "stream",
     "text": [
      "Train loss 0.10378602698063863\n"
     ]
    },
    {
     "name": "stderr",
     "output_type": "stream",
     "text": [
      "100%|██████████████████████████████████████████████████████████████████████████████████████████████████████████████████████████| 984/984 [02:32<00:00,  6.46it/s]\n",
      "  0%|                                                                                                                                   | 0/2295 [00:00<?, ?it/s]"
     ]
    },
    {
     "name": "stdout",
     "output_type": "stream",
     "text": [
      "toxic roc_auc 0.9631233720341985\n",
      "severe_toxic roc_auc 0.9428796554049894\n",
      "obscene roc_auc 0.9590986929475083\n",
      "threat roc_auc 0.9426561285307073\n",
      "insult roc_auc 0.9230858643760705\n",
      "identity_hate roc_auc 0.9484953703703705\n",
      "Evaluate loss 0.1991410106420517\n",
      "---------------------------- EPOCH 4 ----------------------------\n"
     ]
    },
    {
     "name": "stderr",
     "output_type": "stream",
     "text": [
      "100%|████████████████████████████████████████████████████████████████████████████████████████████████████████████████████████| 2295/2295 [20:01<00:00,  1.91it/s]\n",
      "  0%|                                                                                                                                    | 0/984 [00:00<?, ?it/s]"
     ]
    },
    {
     "name": "stdout",
     "output_type": "stream",
     "text": [
      "Train loss 0.08205746578981933\n"
     ]
    },
    {
     "name": "stderr",
     "output_type": "stream",
     "text": [
      "100%|██████████████████████████████████████████████████████████████████████████████████████████████████████████████████████████| 984/984 [02:32<00:00,  6.46it/s]\n"
     ]
    },
    {
     "name": "stdout",
     "output_type": "stream",
     "text": [
      "toxic roc_auc 0.9602272081130099\n",
      "severe_toxic roc_auc 0.9426898487537778\n",
      "obscene roc_auc 0.9585105267619333\n",
      "threat roc_auc 0.9411419193227952\n",
      "insult roc_auc 0.9218560656761701\n",
      "identity_hate roc_auc 0.9460908790618936\n",
      "Evaluate loss 0.20695072412490845\n"
     ]
    }
   ],
   "source": [
    "## train\n",
    "loss_train = []\n",
    "loss_val = []\n",
    "for i in range(EPOCH_NUM):\n",
    "    print('----------------------------' , f\"EPOCH {i}\", '----------------------------')\n",
    "    train(model, train_iterator, optimizer, scheduler, loss_train)\n",
    "    evaluate(model, dev_iterator, loss_val)\n",
    "\n",
    "## save model\n",
    "torch.save(model, 'bert_lower.pkl')"
   ]
  },
  {
   "cell_type": "code",
   "execution_count": 2,
   "metadata": {},
   "outputs": [
    {
     "data": {
      "image/png": "[encoded data removed]",
      "text/plain": [
       "<Figure size 432x288 with 2 Axes>"
      ]
     },
     "metadata": {
      "needs_background": "light"
     },
     "output_type": "display_data"
    }
   ],
   "source": [
    "## loss plot\n",
    "Loss_train = [0.27326929358388086, 0.17559432678557688, 0.13625585961100808, 0.10378602698063863, 0.08205746578981933]\n",
    "Loss_evaluate = [0.1969003826379776, 0.17986412346363068, 0.19019529223442078, 0.1991410106420517, 0.20695072412490845]\n",
    "x1 = range(0, 5)\n",
    "x2 = range(0, 5)\n",
    "y1 = Loss_train\n",
    "y2 = Loss_evaluate\n",
    "plt.subplot(2, 1, 1)\n",
    "plt.plot(x1, y1, 'o-')\n",
    "plt.title('Train loss vs. epoches')\n",
    "plt.ylabel('Train loss')\n",
    "plt.subplot(2, 1, 2)\n",
    "plt.plot(x2, y2, '.-')\n",
    "plt.xlabel('Evaluate loss vs. epoches')\n",
    "plt.ylabel('Evaluate loss')\n",
    "plt.show()"
   ]
  },
  {
   "cell_type": "markdown",
   "metadata": {},
   "source": [
    "##### The loss of train improves but the loss of evaluate (validation) goes up. "
   ]
  },
  {
   "cell_type": "code",
   "execution_count": 6,
   "metadata": {},
   "outputs": [
    {
     "name": "stderr",
     "output_type": "stream",
     "text": [
      "  0%|                                                                                                                                   | 0/7998 [00:00<?, ?it/s]<ipython-input-6-961037f75156>:19: SettingWithCopyWarning: \n",
      "A value is trying to be set on a copy of a slice from a DataFrame.\n",
      "Try using .loc[row_indexer,col_indexer] = value instead\n",
      "\n",
      "See the caveats in the documentation: https://pandas.pydata.org/pandas-docs/stable/user_guide/indexing.html#returning-a-view-versus-a-copy\n",
      "  submission.iloc[i * BATCH_SIZE: (i + 1) * BATCH_SIZE][columns] = outputs\n",
      "D:\\anaconda3\\lib\\site-packages\\pandas\\core\\indexing.py:966: SettingWithCopyWarning: \n",
      "A value is trying to be set on a copy of a slice from a DataFrame.\n",
      "Try using .loc[row_indexer,col_indexer] = value instead\n",
      "\n",
      "See the caveats in the documentation: https://pandas.pydata.org/pandas-docs/stable/user_guide/indexing.html#returning-a-view-versus-a-copy\n",
      "  self.obj[item] = s\n",
      "100%|████████████████████████████████████████████████████████████████████████████████████████████████████████████████████████| 7998/7998 [20:20<00:00,  6.55it/s]\n"
     ]
    },
    {
     "name": "stdout",
     "output_type": "stream",
     "text": [
      "accuracy train_lower: 1.0\n"
     ]
    }
   ],
   "source": [
    "## predict\n",
    "test_df = test[['id', 'comment_text']]\n",
    "submission = test\n",
    "columns = ['toxic', 'severe_toxic', 'obscene', 'threat', 'insult', 'identity_hate']\n",
    "for i in tqdm(range(len(test_df) // BATCH_SIZE + 1)):\n",
    "    batch_df = test_df.iloc[i * BATCH_SIZE: (i + 1) * BATCH_SIZE]\n",
    "    assert (batch_df[\"id\"] == submission[\"id\"][i * BATCH_SIZE: (i + 1) * BATCH_SIZE]).all(), f\"Id mismatch\"\n",
    "    texts = []\n",
    "    for text in batch_df[\"comment_text\"].tolist():\n",
    "        text = tokenizer.encode(text, add_special_tokens=True, max_length = max_seq_len, truncation=True)\n",
    "        #if len(text) > 120:\n",
    "            #text = text[:119] + [tokenizer.sep_token_id]\n",
    "        texts.append(torch.LongTensor(text))\n",
    "    x = pad_sequence(texts, batch_first=True, padding_value=tokenizer.pad_token_id).to(device)\n",
    "    mask = (x != tokenizer.pad_token_id).float().to(device)\n",
    "    with torch.no_grad():\n",
    "        _, outputs = model(x, attention_mask=mask)\n",
    "    outputs = outputs.cpu().numpy()\n",
    "    submission.iloc[i * BATCH_SIZE: (i + 1) * BATCH_SIZE][columns] = outputs\n",
    "\n",
    "## accuracy\n",
    "list_classes = [\"toxic\", \"severe_toxic\", \"obscene\", \"threat\", \"insult\", \"identity_hate\"]\n",
    "test_true = test[list_classes].values\n",
    "test_pred = submission[list_classes].values\n",
    "total = 0\n",
    "acc = 0\n",
    "for i in range(len(test_true)):\n",
    "    for j in range(len(test_true[0])):\n",
    "        if test_true[i][j] != -1:\n",
    "            if test_true[i][j] == test_pred[i][j]:\n",
    "                acc +=1\n",
    "            total += 1\n",
    "print('accuracy train_lower:', acc/total)"
   ]
  },
  {
   "cell_type": "markdown",
   "metadata": {},
   "source": [
    "#### upsample and downsample"
   ]
  },
  {
   "cell_type": "code",
   "execution_count": 7,
   "metadata": {},
   "outputs": [],
   "source": [
    "label_cols = ['toxic', 'severe_toxic', 'obscene', 'threat', 'insult', 'identity_hate']\n",
    "\n",
    "df_train = train_up_down\n",
    "df_test = test\n",
    "\n",
    "bert_model_name = 'bert-base-cased'\n",
    "\n",
    "device = torch.device('cpu')\n",
    "if torch.cuda.is_available():\n",
    "    device = torch.device('cuda')\n",
    "tokenizer = BertTokenizer.from_pretrained(bert_model_name)\n",
    "assert tokenizer.pad_token_id == 0, \"Padding value used in masks is set to zero, please change it everywhere\"\n",
    "\n",
    "#train_df = pd.read_csv(train_path)\n",
    "\n",
    "train_df, val_df = train_test_split(df_train, test_size=0.3)\n",
    "\n",
    "max_seq_len = 128 \n",
    "\n",
    "\n",
    "class ToxicDataset(Dataset):\n",
    "    \n",
    "    def __init__(self, tokenizer: BertTokenizer, dataframe: pd.DataFrame, lazy: bool = False):\n",
    "        self.tokenizer = tokenizer\n",
    "        self.pad_idx = tokenizer.pad_token_id\n",
    "        self.lazy = lazy\n",
    "        if not self.lazy:\n",
    "            self.X = []\n",
    "            self.Y = []\n",
    "            for i, (row) in tqdm(dataframe.iterrows()):\n",
    "                x, y = self.row_to_tensor(self.tokenizer, row)\n",
    "                self.X.append(x)\n",
    "                self.Y.append(y)\n",
    "        else:\n",
    "            self.df = dataframe        \n",
    "    \n",
    "    @staticmethod\n",
    "    def row_to_tensor(tokenizer: BertTokenizer, row: pd.Series) -> Tuple[torch.LongTensor, torch.LongTensor]:\n",
    "        tokens = tokenizer.encode(row[\"comment_text\"], add_special_tokens=True, max_length = max_seq_len, truncation=True)\n",
    "        #if len(tokens) > 120:\n",
    "            #tokens = tokens[:119] + [tokens[-1]]\n",
    "        x = torch.LongTensor(tokens)\n",
    "        y = torch.FloatTensor(row[[\"toxic\", \"severe_toxic\", \"obscene\", \"threat\", \"insult\", \"identity_hate\"]])\n",
    "        return x, y\n",
    "        \n",
    "    \n",
    "    def __len__(self):\n",
    "        if self.lazy:\n",
    "            return len(self.df)\n",
    "        else:\n",
    "            return len(self.X)\n",
    "\n",
    "    def __getitem__(self, index: int) -> Tuple[torch.LongTensor, torch.LongTensor]:\n",
    "        if not self.lazy:\n",
    "            return self.X[index], self.Y[index]\n",
    "        else:\n",
    "            return self.row_to_tensor(self.tokenizer, self.df.iloc[index])\n",
    "            \n",
    "\n",
    "def collate_fn(batch: List[Tuple[torch.LongTensor, torch.LongTensor]], device: torch.device) \\\n",
    "        -> Tuple[torch.LongTensor, torch.LongTensor]:\n",
    "    x, y = list(zip(*batch))\n",
    "    x = pad_sequence(x, batch_first=True, padding_value=0)\n",
    "    y = torch.stack(y)\n",
    "    return x.to(device), y.to(device)\n",
    "\n",
    "train_dataset = ToxicDataset(tokenizer, train_df, lazy=True)\n",
    "dev_dataset = ToxicDataset(tokenizer, val_df, lazy=True)\n",
    "collate_fn = partial(collate_fn, device=device)\n",
    "BATCH_SIZE = 8\n",
    "train_sampler = RandomSampler(train_dataset)\n",
    "dev_sampler = RandomSampler(dev_dataset)\n",
    "train_iterator = DataLoader(train_dataset, batch_size=BATCH_SIZE, sampler=train_sampler, collate_fn=collate_fn)\n",
    "dev_iterator = DataLoader(dev_dataset, batch_size=BATCH_SIZE, sampler=dev_sampler, collate_fn=collate_fn)\n",
    "\n",
    "class BertClassifier(nn.Module):\n",
    "    \n",
    "    def __init__(self, bert: BertModel, num_classes: int):\n",
    "        super().__init__()\n",
    "        self.bert = bert\n",
    "        self.classifier = nn.Linear(bert.config.hidden_size, num_classes)\n",
    "        \n",
    "    def forward(self, input_ids, attention_mask=None, token_type_ids=None, position_ids=None, head_mask=None,\n",
    "                \n",
    "            labels=None):\n",
    "        outputs = self.bert(input_ids,\n",
    "                               attention_mask=attention_mask,\n",
    "                               token_type_ids=token_type_ids,\n",
    "                               position_ids=position_ids,\n",
    "                               head_mask=head_mask)\n",
    "        cls_output = outputs[1] # batch, hidden\n",
    "        cls_output = self.classifier(cls_output) # batch, 6\n",
    "        cls_output = torch.sigmoid(cls_output)\n",
    "        criterion = nn.BCELoss()\n",
    "        loss = 0\n",
    "        if labels is not None:\n",
    "            loss = criterion(cls_output, labels)\n",
    "        return loss, cls_output\n",
    "\n",
    "model = BertClassifier(BertModel.from_pretrained(bert_model_name), 6).to(device)\n",
    "\n",
    "def train(model, iterator, optimizer, scheduler, loss_train):\n",
    "    model.train()\n",
    "    total_loss = 0\n",
    "    for x, y in tqdm(iterator):\n",
    "        optimizer.zero_grad()\n",
    "        mask = (x != 0).float()\n",
    "        loss, outputs = model(x, attention_mask=mask, labels=y)\n",
    "        total_loss += loss.item()\n",
    "        loss.backward()\n",
    "        optimizer.step()\n",
    "        scheduler.step()\n",
    "        \n",
    "    print(f\"Train loss {total_loss / len(iterator)}\")\n",
    "    loss_train.append(total_loss // len(iterator))\n",
    "\n",
    "def evaluate(model, iterator, loss_val):\n",
    "    model.eval()\n",
    "    pred = []\n",
    "    true = []\n",
    "    with torch.no_grad():\n",
    "        total_loss = 0\n",
    "        for x, y in tqdm(iterator):\n",
    "            mask = (x != 0).float()\n",
    "            loss, outputs = model(x, attention_mask=mask, labels=y)\n",
    "            total_loss += loss\n",
    "            true += y.cpu().numpy().tolist()\n",
    "            pred += outputs.cpu().numpy().tolist()\n",
    "    true = np.array(true)\n",
    "    pred = np.array(pred)\n",
    "    for i, name in enumerate(['toxic', 'severe_toxic', 'obscene', 'threat', 'insult', 'identity_hate']):\n",
    "        print(f\"{name} roc_auc {roc_auc_score(true[:, i], pred[:, i])}\")\n",
    "    print(f\"Evaluate loss {total_loss / len(iterator)}\")\n",
    "    val_loss = total_loss // len(iterator)\n",
    "    loss_val.append(val_loss)\n",
    "    \n",
    "    \n",
    "no_decay = ['bias', 'LayerNorm.weight']\n",
    "optimizer_grouped_parameters = [\n",
    "{'params': [p for n, p in model.named_parameters() if not any(nd in n for nd in no_decay)], 'weight_decay': 0.01},\n",
    "{'params': [p for n, p in model.named_parameters() if any(nd in n for nd in no_decay)], 'weight_decay': 0.0}\n",
    "]\n",
    "EPOCH_NUM = 5\n",
    "# triangular learning rate, linearly grows untill half of first epoch, then linearly decays \n",
    "warmup_steps = 10 ** 3\n",
    "total_steps = len(train_iterator) * EPOCH_NUM - warmup_steps\n",
    "optimizer = AdamW(optimizer_grouped_parameters, lr=2e-5, eps=1e-8)\n",
    "scheduler = get_linear_schedule_with_warmup(optimizer, warmup_steps, total_steps)\n",
    "# scheduler = WarmupLinearSchedule(optimizer, warmup_steps=warmup_steps, t_total=total_steps)"
   ]
  },
  {
   "cell_type": "code",
   "execution_count": 8,
   "metadata": {
    "scrolled": true
   },
   "outputs": [
    {
     "name": "stderr",
     "output_type": "stream",
     "text": [
      "  0%|                                                                                                                           | 1/3065 [00:00<07:32,  6.77it/s]"
     ]
    },
    {
     "name": "stdout",
     "output_type": "stream",
     "text": [
      "---------------------------- EPOCH 0 ----------------------------\n"
     ]
    },
    {
     "name": "stderr",
     "output_type": "stream",
     "text": [
      "100%|████████████████████████████████████████████████████████████████████████████████████████████████████████████████████████| 3065/3065 [26:49<00:00,  1.90it/s]\n",
      "  0%|                                                                                                                                   | 0/1314 [00:00<?, ?it/s]"
     ]
    },
    {
     "name": "stdout",
     "output_type": "stream",
     "text": [
      "Train loss 0.23207028850922162\n"
     ]
    },
    {
     "name": "stderr",
     "output_type": "stream",
     "text": [
      "100%|████████████████████████████████████████████████████████████████████████████████████████████████████████████████████████| 1314/1314 [03:25<00:00,  6.40it/s]\n",
      "  0%|                                                                                                                                   | 0/3065 [00:00<?, ?it/s]"
     ]
    },
    {
     "name": "stdout",
     "output_type": "stream",
     "text": [
      "toxic roc_auc 0.9750015998658319\n",
      "severe_toxic roc_auc 0.9535203997682895\n",
      "obscene roc_auc 0.9711495758336657\n",
      "threat roc_auc 0.9855607215798948\n",
      "insult roc_auc 0.9481839552732205\n",
      "identity_hate roc_auc 0.9806865981075426\n",
      "Evaluate loss 0.14512094855308533\n",
      "---------------------------- EPOCH 1 ----------------------------\n"
     ]
    },
    {
     "name": "stderr",
     "output_type": "stream",
     "text": [
      "100%|████████████████████████████████████████████████████████████████████████████████████████████████████████████████████████| 3065/3065 [26:27<00:00,  1.93it/s]\n",
      "  0%|                                                                                                                                   | 0/1314 [00:00<?, ?it/s]"
     ]
    },
    {
     "name": "stdout",
     "output_type": "stream",
     "text": [
      "Train loss 0.12850435296602267\n"
     ]
    },
    {
     "name": "stderr",
     "output_type": "stream",
     "text": [
      "100%|████████████████████████████████████████████████████████████████████████████████████████████████████████████████████████| 1314/1314 [03:17<00:00,  6.64it/s]\n",
      "  0%|                                                                                                                           | 1/3065 [00:00<07:20,  6.96it/s]"
     ]
    },
    {
     "name": "stdout",
     "output_type": "stream",
     "text": [
      "toxic roc_auc 0.9781690399848768\n",
      "severe_toxic roc_auc 0.9539291922281483\n",
      "obscene roc_auc 0.9740557703439483\n",
      "threat roc_auc 0.9868787429036276\n",
      "insult roc_auc 0.9508706586891684\n",
      "identity_hate roc_auc 0.9842911175108304\n",
      "Evaluate loss 0.14111189544200897\n",
      "---------------------------- EPOCH 2 ----------------------------\n"
     ]
    },
    {
     "name": "stderr",
     "output_type": "stream",
     "text": [
      "100%|████████████████████████████████████████████████████████████████████████████████████████████████████████████████████████| 3065/3065 [26:05<00:00,  1.96it/s]\n",
      "  0%|                                                                                                                                   | 0/1314 [00:00<?, ?it/s]"
     ]
    },
    {
     "name": "stdout",
     "output_type": "stream",
     "text": [
      "Train loss 0.09736662930398754\n"
     ]
    },
    {
     "name": "stderr",
     "output_type": "stream",
     "text": [
      "100%|████████████████████████████████████████████████████████████████████████████████████████████████████████████████████████| 1314/1314 [03:20<00:00,  6.55it/s]\n",
      "  0%|                                                                                                                                   | 0/3065 [00:00<?, ?it/s]"
     ]
    },
    {
     "name": "stdout",
     "output_type": "stream",
     "text": [
      "toxic roc_auc 0.9762237134688108\n",
      "severe_toxic roc_auc 0.9558141455305255\n",
      "obscene roc_auc 0.9731957775013884\n",
      "threat roc_auc 0.9882560448975353\n",
      "insult roc_auc 0.9480500617380649\n",
      "identity_hate roc_auc 0.9852209326676444\n",
      "Evaluate loss 0.1507434993982315\n",
      "---------------------------- EPOCH 3 ----------------------------\n"
     ]
    },
    {
     "name": "stderr",
     "output_type": "stream",
     "text": [
      "100%|████████████████████████████████████████████████████████████████████████████████████████████████████████████████████████| 3065/3065 [25:53<00:00,  1.97it/s]\n",
      "  0%|                                                                                                                                   | 0/1314 [00:00<?, ?it/s]"
     ]
    },
    {
     "name": "stdout",
     "output_type": "stream",
     "text": [
      "Train loss 0.07005589332471056\n"
     ]
    },
    {
     "name": "stderr",
     "output_type": "stream",
     "text": [
      "100%|████████████████████████████████████████████████████████████████████████████████████████████████████████████████████████| 1314/1314 [03:20<00:00,  6.55it/s]\n",
      "  0%|                                                                                                                                   | 0/3065 [00:00<?, ?it/s]"
     ]
    },
    {
     "name": "stdout",
     "output_type": "stream",
     "text": [
      "toxic roc_auc 0.9715032081907246\n",
      "severe_toxic roc_auc 0.9523284470169112\n",
      "obscene roc_auc 0.9717834541884713\n",
      "threat roc_auc 0.9880238983314871\n",
      "insult roc_auc 0.9448276802672259\n",
      "identity_hate roc_auc 0.9811447043648756\n",
      "Evaluate loss 0.16710655391216278\n",
      "---------------------------- EPOCH 4 ----------------------------\n"
     ]
    },
    {
     "name": "stderr",
     "output_type": "stream",
     "text": [
      "100%|████████████████████████████████████████████████████████████████████████████████████████████████████████████████████████| 3065/3065 [25:48<00:00,  1.98it/s]\n",
      "  0%|                                                                                                                                   | 0/1314 [00:00<?, ?it/s]"
     ]
    },
    {
     "name": "stdout",
     "output_type": "stream",
     "text": [
      "Train loss 0.051094653074694935\n"
     ]
    },
    {
     "name": "stderr",
     "output_type": "stream",
     "text": [
      "100%|████████████████████████████████████████████████████████████████████████████████████████████████████████████████████████| 1314/1314 [03:20<00:00,  6.56it/s]\n"
     ]
    },
    {
     "name": "stdout",
     "output_type": "stream",
     "text": [
      "toxic roc_auc 0.9695692646281064\n",
      "severe_toxic roc_auc 0.9512272687315569\n",
      "obscene roc_auc 0.9709310392368526\n",
      "threat roc_auc 0.9874031821171421\n",
      "insult roc_auc 0.9431328125669759\n",
      "identity_hate roc_auc 0.9801649977896835\n",
      "Evaluate loss 0.1746567338705063\n"
     ]
    }
   ],
   "source": [
    "## train\n",
    "loss_train = []\n",
    "loss_val = []\n",
    "for i in range(EPOCH_NUM):\n",
    "    print('----------------------------' , f\"EPOCH {i}\", '----------------------------')\n",
    "    train(model, train_iterator, optimizer, scheduler, loss_train)\n",
    "    evaluate(model, dev_iterator, loss_val)\n",
    "\n",
    "## save model\n",
    "torch.save(model, 'bert_train_up_down.pkl')"
   ]
  },
  {
   "cell_type": "code",
   "execution_count": 3,
   "metadata": {
    "scrolled": true
   },
   "outputs": [
    {
     "data": {
      "image/png": "[encoded data removed]",
      "text/plain": [
       "<Figure size 432x288 with 2 Axes>"
      ]
     },
     "metadata": {
      "needs_background": "light"
     },
     "output_type": "display_data"
    }
   ],
   "source": [
    "## loss plot\n",
    "Loss_train = [0.23207028850922162, 0.12850435296602267, 0.09736662930398754, 0.07005589332471056, 0.051094653074694935]\n",
    "Loss_evaluate = [0.14512094855308533, 0.14111189544200897, 0.1507434993982315, 0.16710655391216278, 0.1746567338705063]\n",
    "x1 = range(0, 5)\n",
    "x2 = range(0, 5)\n",
    "y1 = Loss_train\n",
    "y2 = Loss_evaluate\n",
    "plt.subplot(2, 1, 1)\n",
    "plt.plot(x1, y1, 'o-')\n",
    "plt.title('Train loss vs. epoches')\n",
    "plt.ylabel('Train loss')\n",
    "plt.subplot(2, 1, 2)\n",
    "plt.plot(x2, y2, '.-')\n",
    "plt.xlabel('Evaluate loss vs. epoches')\n",
    "plt.ylabel('Evaluate loss')\n",
    "plt.show()"
   ]
  },
  {
   "cell_type": "markdown",
   "metadata": {},
   "source": [
    "##### The loss of train improves but the loss of evaluate (validation) goes up. "
   ]
  },
  {
   "cell_type": "code",
   "execution_count": 9,
   "metadata": {},
   "outputs": [
    {
     "name": "stderr",
     "output_type": "stream",
     "text": [
      "  0%|                                                                                                                                   | 0/7998 [00:00<?, ?it/s]<ipython-input-9-db00cd1095f8>:19: SettingWithCopyWarning: \n",
      "A value is trying to be set on a copy of a slice from a DataFrame.\n",
      "Try using .loc[row_indexer,col_indexer] = value instead\n",
      "\n",
      "See the caveats in the documentation: https://pandas.pydata.org/pandas-docs/stable/user_guide/indexing.html#returning-a-view-versus-a-copy\n",
      "  submission.iloc[i * BATCH_SIZE: (i + 1) * BATCH_SIZE][columns] = outputs\n",
      "D:\\anaconda3\\lib\\site-packages\\pandas\\core\\indexing.py:966: SettingWithCopyWarning: \n",
      "A value is trying to be set on a copy of a slice from a DataFrame.\n",
      "Try using .loc[row_indexer,col_indexer] = value instead\n",
      "\n",
      "See the caveats in the documentation: https://pandas.pydata.org/pandas-docs/stable/user_guide/indexing.html#returning-a-view-versus-a-copy\n",
      "  self.obj[item] = s\n",
      "100%|████████████████████████████████████████████████████████████████████████████████████████████████████████████████████████| 7998/7998 [20:08<00:00,  6.62it/s]\n"
     ]
    },
    {
     "name": "stdout",
     "output_type": "stream",
     "text": [
      "accuracy train_up_down: 1.0\n"
     ]
    }
   ],
   "source": [
    "## predict\n",
    "test_df = test[['id', 'comment_text']]\n",
    "submission = test\n",
    "columns = ['toxic', 'severe_toxic', 'obscene', 'threat', 'insult', 'identity_hate']\n",
    "for i in tqdm(range(len(test_df) // BATCH_SIZE + 1)):\n",
    "    batch_df = test_df.iloc[i * BATCH_SIZE: (i + 1) * BATCH_SIZE]\n",
    "    assert (batch_df[\"id\"] == submission[\"id\"][i * BATCH_SIZE: (i + 1) * BATCH_SIZE]).all(), f\"Id mismatch\"\n",
    "    texts = []\n",
    "    for text in batch_df[\"comment_text\"].tolist():\n",
    "        text = tokenizer.encode(text, add_special_tokens=True, max_length = max_seq_len, truncation=True)\n",
    "        #if len(text) > 120:\n",
    "            #text = text[:119] + [tokenizer.sep_token_id]\n",
    "        texts.append(torch.LongTensor(text))\n",
    "    x = pad_sequence(texts, batch_first=True, padding_value=tokenizer.pad_token_id).to(device)\n",
    "    mask = (x != tokenizer.pad_token_id).float().to(device)\n",
    "    with torch.no_grad():\n",
    "        _, outputs = model(x, attention_mask=mask)\n",
    "    outputs = outputs.cpu().numpy()\n",
    "    submission.iloc[i * BATCH_SIZE: (i + 1) * BATCH_SIZE][columns] = outputs\n",
    "\n",
    "## accuracy\n",
    "list_classes = [\"toxic\", \"severe_toxic\", \"obscene\", \"threat\", \"insult\", \"identity_hate\"]\n",
    "test_true = test[list_classes].values\n",
    "test_pred = submission[list_classes].values\n",
    "total = 0\n",
    "acc = 0\n",
    "for i in range(len(test_true)):\n",
    "    for j in range(len(test_true[0])):\n",
    "        if test_true[i][j] != -1:\n",
    "            if test_true[i][j] == test_pred[i][j]:\n",
    "                acc +=1\n",
    "            total += 1\n",
    "print('accuracy train_up_down:', acc/total)"
   ]
  },
  {
   "cell_type": "markdown",
   "metadata": {},
   "source": [
    "#### augment data"
   ]
  },
  {
   "cell_type": "code",
   "execution_count": 10,
   "metadata": {},
   "outputs": [],
   "source": [
    "label_cols = ['toxic', 'severe_toxic', 'obscene', 'threat', 'insult', 'identity_hate']\n",
    "\n",
    "df_train = train_aug\n",
    "df_test = test\n",
    "\n",
    "bert_model_name = 'bert-base-cased'\n",
    "\n",
    "device = torch.device('cpu')\n",
    "if torch.cuda.is_available():\n",
    "    device = torch.device('cuda')\n",
    "tokenizer = BertTokenizer.from_pretrained(bert_model_name)\n",
    "assert tokenizer.pad_token_id == 0, \"Padding value used in masks is set to zero, please change it everywhere\"\n",
    "\n",
    "#train_df = pd.read_csv(train_path)\n",
    "\n",
    "train_df, val_df = train_test_split(df_train, test_size=0.3)\n",
    "\n",
    "max_seq_len = 128 \n",
    "\n",
    "\n",
    "class ToxicDataset(Dataset):\n",
    "    \n",
    "    def __init__(self, tokenizer: BertTokenizer, dataframe: pd.DataFrame, lazy: bool = False):\n",
    "        self.tokenizer = tokenizer\n",
    "        self.pad_idx = tokenizer.pad_token_id\n",
    "        self.lazy = lazy\n",
    "        if not self.lazy:\n",
    "            self.X = []\n",
    "            self.Y = []\n",
    "            for i, (row) in tqdm(dataframe.iterrows()):\n",
    "                x, y = self.row_to_tensor(self.tokenizer, row)\n",
    "                self.X.append(x)\n",
    "                self.Y.append(y)\n",
    "        else:\n",
    "            self.df = dataframe        \n",
    "    \n",
    "    @staticmethod\n",
    "    def row_to_tensor(tokenizer: BertTokenizer, row: pd.Series) -> Tuple[torch.LongTensor, torch.LongTensor]:\n",
    "        tokens = tokenizer.encode(row[\"comment_text\"], add_special_tokens=True, max_length = max_seq_len, truncation=True)\n",
    "        #if len(tokens) > 120:\n",
    "            #tokens = tokens[:119] + [tokens[-1]]\n",
    "        x = torch.LongTensor(tokens)\n",
    "        y = torch.FloatTensor(row[[\"toxic\", \"severe_toxic\", \"obscene\", \"threat\", \"insult\", \"identity_hate\"]])\n",
    "        return x, y\n",
    "        \n",
    "    \n",
    "    def __len__(self):\n",
    "        if self.lazy:\n",
    "            return len(self.df)\n",
    "        else:\n",
    "            return len(self.X)\n",
    "\n",
    "    def __getitem__(self, index: int) -> Tuple[torch.LongTensor, torch.LongTensor]:\n",
    "        if not self.lazy:\n",
    "            return self.X[index], self.Y[index]\n",
    "        else:\n",
    "            return self.row_to_tensor(self.tokenizer, self.df.iloc[index])\n",
    "            \n",
    "\n",
    "def collate_fn(batch: List[Tuple[torch.LongTensor, torch.LongTensor]], device: torch.device) \\\n",
    "        -> Tuple[torch.LongTensor, torch.LongTensor]:\n",
    "    x, y = list(zip(*batch))\n",
    "    x = pad_sequence(x, batch_first=True, padding_value=0)\n",
    "    y = torch.stack(y)\n",
    "    return x.to(device), y.to(device)\n",
    "\n",
    "train_dataset = ToxicDataset(tokenizer, train_df, lazy=True)\n",
    "dev_dataset = ToxicDataset(tokenizer, val_df, lazy=True)\n",
    "collate_fn = partial(collate_fn, device=device)\n",
    "BATCH_SIZE = 8\n",
    "train_sampler = RandomSampler(train_dataset)\n",
    "dev_sampler = RandomSampler(dev_dataset)\n",
    "train_iterator = DataLoader(train_dataset, batch_size=BATCH_SIZE, sampler=train_sampler, collate_fn=collate_fn)\n",
    "dev_iterator = DataLoader(dev_dataset, batch_size=BATCH_SIZE, sampler=dev_sampler, collate_fn=collate_fn)\n",
    "\n",
    "class BertClassifier(nn.Module):\n",
    "    \n",
    "    def __init__(self, bert: BertModel, num_classes: int):\n",
    "        super().__init__()\n",
    "        self.bert = bert\n",
    "        self.classifier = nn.Linear(bert.config.hidden_size, num_classes)\n",
    "        \n",
    "    def forward(self, input_ids, attention_mask=None, token_type_ids=None, position_ids=None, head_mask=None,\n",
    "                \n",
    "            labels=None):\n",
    "        outputs = self.bert(input_ids,\n",
    "                               attention_mask=attention_mask,\n",
    "                               token_type_ids=token_type_ids,\n",
    "                               position_ids=position_ids,\n",
    "                               head_mask=head_mask)\n",
    "        cls_output = outputs[1] # batch, hidden\n",
    "        cls_output = self.classifier(cls_output) # batch, 6\n",
    "        cls_output = torch.sigmoid(cls_output)\n",
    "        criterion = nn.BCELoss()\n",
    "        loss = 0\n",
    "        if labels is not None:\n",
    "            loss = criterion(cls_output, labels)\n",
    "        return loss, cls_output\n",
    "\n",
    "model = BertClassifier(BertModel.from_pretrained(bert_model_name), 6).to(device)\n",
    "\n",
    "def train(model, iterator, optimizer, scheduler, loss_train):\n",
    "    model.train()\n",
    "    total_loss = 0\n",
    "    for x, y in tqdm(iterator):\n",
    "        optimizer.zero_grad()\n",
    "        mask = (x != 0).float()\n",
    "        loss, outputs = model(x, attention_mask=mask, labels=y)\n",
    "        total_loss += loss.item()\n",
    "        loss.backward()\n",
    "        optimizer.step()\n",
    "        scheduler.step()\n",
    "        \n",
    "    print(f\"Train loss {total_loss / len(iterator)}\")\n",
    "    loss_train.append(total_loss // len(iterator))\n",
    "\n",
    "def evaluate(model, iterator, loss_val):\n",
    "    model.eval()\n",
    "    pred = []\n",
    "    true = []\n",
    "    with torch.no_grad():\n",
    "        total_loss = 0\n",
    "        for x, y in tqdm(iterator):\n",
    "            mask = (x != 0).float()\n",
    "            loss, outputs = model(x, attention_mask=mask, labels=y)\n",
    "            total_loss += loss\n",
    "            true += y.cpu().numpy().tolist()\n",
    "            pred += outputs.cpu().numpy().tolist()\n",
    "    true = np.array(true)\n",
    "    pred = np.array(pred)\n",
    "    for i, name in enumerate(['toxic', 'severe_toxic', 'obscene', 'threat', 'insult', 'identity_hate']):\n",
    "        print(f\"{name} roc_auc {roc_auc_score(true[:, i], pred[:, i])}\")\n",
    "    print(f\"Evaluate loss {total_loss / len(iterator)}\")\n",
    "    val_loss = total_loss // len(iterator)\n",
    "    loss_val.append(val_loss)\n",
    "    \n",
    "    \n",
    "no_decay = ['bias', 'LayerNorm.weight']\n",
    "optimizer_grouped_parameters = [\n",
    "{'params': [p for n, p in model.named_parameters() if not any(nd in n for nd in no_decay)], 'weight_decay': 0.01},\n",
    "{'params': [p for n, p in model.named_parameters() if any(nd in n for nd in no_decay)], 'weight_decay': 0.0}\n",
    "]\n",
    "EPOCH_NUM = 5\n",
    "# triangular learning rate, linearly grows untill half of first epoch, then linearly decays \n",
    "warmup_steps = 10 ** 3\n",
    "total_steps = len(train_iterator) * EPOCH_NUM - warmup_steps\n",
    "optimizer = AdamW(optimizer_grouped_parameters, lr=2e-5, eps=1e-8)\n",
    "scheduler = get_linear_schedule_with_warmup(optimizer, warmup_steps, total_steps)\n",
    "# scheduler = WarmupLinearSchedule(optimizer, warmup_steps=warmup_steps, t_total=total_steps)"
   ]
  },
  {
   "cell_type": "code",
   "execution_count": 11,
   "metadata": {
    "scrolled": true
   },
   "outputs": [
    {
     "name": "stderr",
     "output_type": "stream",
     "text": [
      "\r",
      "  0%|                                                                                                                                  | 0/14327 [00:00<?, ?it/s]"
     ]
    },
    {
     "name": "stdout",
     "output_type": "stream",
     "text": [
      "---------------------------- EPOCH 0 ----------------------------\n"
     ]
    },
    {
     "name": "stderr",
     "output_type": "stream",
     "text": [
      "100%|████████████████████████████████████████████████████████████████████████████████████████████████████████████████████| 14327/14327 [2:03:15<00:00,  1.94it/s]\n",
      "  0%|                                                                                                                                   | 0/6140 [00:00<?, ?it/s]"
     ]
    },
    {
     "name": "stdout",
     "output_type": "stream",
     "text": [
      "Train loss 0.06452774089625292\n"
     ]
    },
    {
     "name": "stderr",
     "output_type": "stream",
     "text": [
      "100%|████████████████████████████████████████████████████████████████████████████████████████████████████████████████████████| 6140/6140 [15:44<00:00,  6.50it/s]\n",
      "  0%|                                                                                                                                  | 0/14327 [00:00<?, ?it/s]"
     ]
    },
    {
     "name": "stdout",
     "output_type": "stream",
     "text": [
      "toxic roc_auc 0.98129977258801\n",
      "severe_toxic roc_auc 0.990735304576296\n",
      "obscene roc_auc 0.9905490715363533\n",
      "threat roc_auc 0.9970139877588763\n",
      "insult roc_auc 0.9875918356404643\n",
      "identity_hate roc_auc 0.993921774290079\n",
      "Evaluate loss 0.04411051422357559\n",
      "---------------------------- EPOCH 1 ----------------------------\n"
     ]
    },
    {
     "name": "stderr",
     "output_type": "stream",
     "text": [
      "100%|████████████████████████████████████████████████████████████████████████████████████████████████████████████████████| 14327/14327 [2:03:01<00:00,  1.94it/s]\n",
      "  0%|                                                                                                                                   | 0/6140 [00:00<?, ?it/s]"
     ]
    },
    {
     "name": "stdout",
     "output_type": "stream",
     "text": [
      "Train loss 0.03558191595835051\n"
     ]
    },
    {
     "name": "stderr",
     "output_type": "stream",
     "text": [
      "100%|████████████████████████████████████████████████████████████████████████████████████████████████████████████████████████| 6140/6140 [15:54<00:00,  6.43it/s]\n",
      "  0%|                                                                                                                                  | 0/14327 [00:00<?, ?it/s]"
     ]
    },
    {
     "name": "stdout",
     "output_type": "stream",
     "text": [
      "toxic roc_auc 0.9841577765067887\n",
      "severe_toxic roc_auc 0.989174682269084\n",
      "obscene roc_auc 0.9921288928790546\n",
      "threat roc_auc 0.9977740619598219\n",
      "insult roc_auc 0.9895509941273073\n",
      "identity_hate roc_auc 0.995992838619178\n",
      "Evaluate loss 0.04043671116232872\n",
      "---------------------------- EPOCH 2 ----------------------------\n"
     ]
    },
    {
     "name": "stderr",
     "output_type": "stream",
     "text": [
      "100%|████████████████████████████████████████████████████████████████████████████████████████████████████████████████████| 14327/14327 [2:03:56<00:00,  1.93it/s]\n",
      "  0%|                                                                                                                                   | 0/6140 [00:00<?, ?it/s]"
     ]
    },
    {
     "name": "stdout",
     "output_type": "stream",
     "text": [
      "Train loss 0.024835799867587518\n"
     ]
    },
    {
     "name": "stderr",
     "output_type": "stream",
     "text": [
      "100%|████████████████████████████████████████████████████████████████████████████████████████████████████████████████████████| 6140/6140 [15:53<00:00,  6.44it/s]\n",
      "  0%|                                                                                                                                  | 0/14327 [00:00<?, ?it/s]"
     ]
    },
    {
     "name": "stdout",
     "output_type": "stream",
     "text": [
      "toxic roc_auc 0.9821357916570091\n",
      "severe_toxic roc_auc 0.9896889094867818\n",
      "obscene roc_auc 0.9918174586066374\n",
      "threat roc_auc 0.9945955246849113\n",
      "insult roc_auc 0.989160890693796\n",
      "identity_hate roc_auc 0.9958819573873465\n",
      "Evaluate loss 0.04307328537106514\n",
      "---------------------------- EPOCH 3 ----------------------------\n"
     ]
    },
    {
     "name": "stderr",
     "output_type": "stream",
     "text": [
      "100%|████████████████████████████████████████████████████████████████████████████████████████████████████████████████████| 14327/14327 [2:05:02<00:00,  1.91it/s]\n",
      "  0%|                                                                                                                           | 1/6140 [00:00<17:20,  5.90it/s]"
     ]
    },
    {
     "name": "stdout",
     "output_type": "stream",
     "text": [
      "Train loss 0.016502077261136026\n"
     ]
    },
    {
     "name": "stderr",
     "output_type": "stream",
     "text": [
      "100%|████████████████████████████████████████████████████████████████████████████████████████████████████████████████████████| 6140/6140 [15:52<00:00,  6.44it/s]\n",
      "  0%|                                                                                                                                  | 0/14327 [00:00<?, ?it/s]"
     ]
    },
    {
     "name": "stdout",
     "output_type": "stream",
     "text": [
      "toxic roc_auc 0.9789761414001512\n",
      "severe_toxic roc_auc 0.9889533426679101\n",
      "obscene roc_auc 0.9912060196755175\n",
      "threat roc_auc 0.9954233642654479\n",
      "insult roc_auc 0.9870809275111874\n",
      "identity_hate roc_auc 0.99423533524778\n",
      "Evaluate loss 0.04958465322852135\n",
      "---------------------------- EPOCH 4 ----------------------------\n"
     ]
    },
    {
     "name": "stderr",
     "output_type": "stream",
     "text": [
      "100%|████████████████████████████████████████████████████████████████████████████████████████████████████████████████████| 14327/14327 [2:04:34<00:00,  1.92it/s]\n",
      "  0%|                                                                                                                                   | 0/6140 [00:00<?, ?it/s]"
     ]
    },
    {
     "name": "stdout",
     "output_type": "stream",
     "text": [
      "Train loss 0.009867779444672063\n"
     ]
    },
    {
     "name": "stderr",
     "output_type": "stream",
     "text": [
      "100%|████████████████████████████████████████████████████████████████████████████████████████████████████████████████████████| 6140/6140 [15:49<00:00,  6.46it/s]\n"
     ]
    },
    {
     "name": "stdout",
     "output_type": "stream",
     "text": [
      "toxic roc_auc 0.9781164195500984\n",
      "severe_toxic roc_auc 0.9883594984325319\n",
      "obscene roc_auc 0.9899468947377978\n",
      "threat roc_auc 0.9952353328373055\n",
      "insult roc_auc 0.9817893872103215\n",
      "identity_hate roc_auc 0.9935371450067347\n",
      "Evaluate loss 0.05808599293231964\n"
     ]
    }
   ],
   "source": [
    "## train\n",
    "loss_train = []\n",
    "loss_val = []\n",
    "for i in range(EPOCH_NUM):\n",
    "    print('----------------------------' , f\"EPOCH {i}\", '----------------------------')\n",
    "    train(model, train_iterator, optimizer, scheduler, loss_train)\n",
    "    evaluate(model, dev_iterator, loss_val)\n",
    "\n",
    "## save model\n",
    "torch.save(model, 'bert_train_aug.pkl')"
   ]
  },
  {
   "cell_type": "code",
   "execution_count": 4,
   "metadata": {
    "scrolled": true
   },
   "outputs": [
    {
     "data": {
      "image/png": "[encoded data removed]",
      "text/plain": [
       "<Figure size 432x288 with 2 Axes>"
      ]
     },
     "metadata": {
      "needs_background": "light"
     },
     "output_type": "display_data"
    }
   ],
   "source": [
    "## loss plot\n",
    "Loss_train = [0.06452774089625292, 0.03558191595835051, 0.024835799867587518, 0.016502077261136026, 0.009867779444672063]\n",
    "Loss_evaluate = [0.04411051422357559, 0.04043671116232872, 0.04307328537106514, 0.04958465322852135, 0.05808599293231964]\n",
    "x1 = range(0, 5)\n",
    "x2 = range(0, 5)\n",
    "y1 = Loss_train\n",
    "y2 = Loss_evaluate\n",
    "plt.subplot(2, 1, 1)\n",
    "plt.plot(x1, y1, 'o-')\n",
    "plt.title('Train loss vs. epoches')\n",
    "plt.ylabel('Train loss')\n",
    "plt.subplot(2, 1, 2)\n",
    "plt.plot(x2, y2, '.-')\n",
    "plt.xlabel('Evaluate loss vs. epoches')\n",
    "plt.ylabel('Evaluate loss')\n",
    "plt.show()"
   ]
  },
  {
   "cell_type": "markdown",
   "metadata": {},
   "source": [
    "##### The loss of train improves but the loss of evaluate (validation) goes up. "
   ]
  },
  {
   "cell_type": "code",
   "execution_count": 12,
   "metadata": {},
   "outputs": [
    {
     "name": "stderr",
     "output_type": "stream",
     "text": [
      "  0%|                                                                                                                                   | 0/7998 [00:00<?, ?it/s]<ipython-input-12-15ab5e2cd81a>:19: SettingWithCopyWarning: \n",
      "A value is trying to be set on a copy of a slice from a DataFrame.\n",
      "Try using .loc[row_indexer,col_indexer] = value instead\n",
      "\n",
      "See the caveats in the documentation: https://pandas.pydata.org/pandas-docs/stable/user_guide/indexing.html#returning-a-view-versus-a-copy\n",
      "  submission.iloc[i * BATCH_SIZE: (i + 1) * BATCH_SIZE][columns] = outputs\n",
      "D:\\anaconda3\\lib\\site-packages\\pandas\\core\\indexing.py:966: SettingWithCopyWarning: \n",
      "A value is trying to be set on a copy of a slice from a DataFrame.\n",
      "Try using .loc[row_indexer,col_indexer] = value instead\n",
      "\n",
      "See the caveats in the documentation: https://pandas.pydata.org/pandas-docs/stable/user_guide/indexing.html#returning-a-view-versus-a-copy\n",
      "  self.obj[item] = s\n",
      "100%|████████████████████████████████████████████████████████████████████████████████████████████████████████████████████████| 7998/7998 [20:10<00:00,  6.61it/s]\n"
     ]
    },
    {
     "name": "stdout",
     "output_type": "stream",
     "text": [
      "accuracy train_aug: 1.0\n"
     ]
    }
   ],
   "source": [
    "## predict\n",
    "test_df = test[['id', 'comment_text']]\n",
    "submission = test\n",
    "columns = ['toxic', 'severe_toxic', 'obscene', 'threat', 'insult', 'identity_hate']\n",
    "for i in tqdm(range(len(test_df) // BATCH_SIZE + 1)):\n",
    "    batch_df = test_df.iloc[i * BATCH_SIZE: (i + 1) * BATCH_SIZE]\n",
    "    assert (batch_df[\"id\"] == submission[\"id\"][i * BATCH_SIZE: (i + 1) * BATCH_SIZE]).all(), f\"Id mismatch\"\n",
    "    texts = []\n",
    "    for text in batch_df[\"comment_text\"].tolist():\n",
    "        text = tokenizer.encode(text, add_special_tokens=True, max_length = max_seq_len, truncation=True)\n",
    "        #if len(text) > 120:\n",
    "            #text = text[:119] + [tokenizer.sep_token_id]\n",
    "        texts.append(torch.LongTensor(text))\n",
    "    x = pad_sequence(texts, batch_first=True, padding_value=tokenizer.pad_token_id).to(device)\n",
    "    mask = (x != tokenizer.pad_token_id).float().to(device)\n",
    "    with torch.no_grad():\n",
    "        _, outputs = model(x, attention_mask=mask)\n",
    "    outputs = outputs.cpu().numpy()\n",
    "    submission.iloc[i * BATCH_SIZE: (i + 1) * BATCH_SIZE][columns] = outputs\n",
    "\n",
    "## accuracy\n",
    "list_classes = [\"toxic\", \"severe_toxic\", \"obscene\", \"threat\", \"insult\", \"identity_hate\"]\n",
    "test_true = test[list_classes].values\n",
    "test_pred = submission[list_classes].values\n",
    "total = 0\n",
    "acc = 0\n",
    "for i in range(len(test_true)):\n",
    "    for j in range(len(test_true[0])):\n",
    "        if test_true[i][j] != -1:\n",
    "            if test_true[i][j] == test_pred[i][j]:\n",
    "                acc +=1\n",
    "            total += 1\n",
    "print('accuracy train_aug:', acc/total)"
   ]
  },
  {
   "cell_type": "markdown",
   "metadata": {},
   "source": [
    "## Summary\n",
    "#### Accuracy on testing dataset \n",
    "|      |  Original Dataset    | Lower the clean data  |  Downsample and upsample    | Augmentation  |\n",
    "|  ----  | ----  |  ----  | ----  | ----  |\n",
    "| LSTM  | 96.9  | 95.1   | 94.3 | 96.8 |\n",
    "| BERT  | 100 | 100  | 100 | 100 |\n",
    "\n",
    "#### For LSTM model, the original dataset have the best performance on training process and Testing. This may related to the distribution of the training dataset and testing dataset. Because they have similar composition, and we think this distribution meets the situation in the real scenario. Most of the content on the website are more neutral, toxic are less. If we train a model with more toxic data, then it may imply many content on the internet are toxic. Bert model performs relatively well compare our baseline model, and the testing accuracy on all dataset are 100%. This task are easy from BERT, the only problem is that it may be too big to run on Chrome extension."
   ]
  }
 ],
 "metadata": {
  "kernelspec": {
   "display_name": "Python 3",
   "language": "python",
   "name": "python3"
  },
  "language_info": {
   "codemirror_mode": {
    "name": "ipython",
    "version": 3
   },
   "file_extension": ".py",
   "mimetype": "text/x-python",
   "name": "python",
   "nbconvert_exporter": "python",
   "pygments_lexer": "ipython3",
   "version": "3.8.3"
  }
 },
 "nbformat": 4,
 "nbformat_minor": 4
}
